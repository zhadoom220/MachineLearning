{
 "cells": [
  {
   "cell_type": "code",
   "execution_count": 2,
   "metadata": {},
   "outputs": [],
   "source": [
    "import pandas as pd \n",
    "from sklearn.linear_model import LinearRegression \n",
    "from sklearn import metrics \n",
    "import matplotlib.pyplot as plt \n",
    "import numpy as np \n",
    "import seaborn as sns\n",
    "\n",
    "from sklearn.model_selection import train_test_split\n",
    "import pandas as pd\n",
    "from sklearn.tree import DecisionTreeClassifier, export_graphviz\n",
    "from sklearn.linear_model import LogisticRegression\n",
    "\n",
    "from sklearn.metrics import classification_report\n",
    "from sklearn.metrics import confusion_matrix\n",
    "\n",
    "import sklearn\n",
    "import sklearn.metrics\n",
    "from sklearn import ensemble\n",
    "from sklearn import linear_model\n",
    "\n",
    "from sklearn.metrics import classification_report\n",
    "from sklearn.metrics import accuracy_score #Exactitud\n",
    "from sklearn.metrics import precision_score #Precision\n",
    "from sklearn.metrics import recall_score #Sensibilidad\n",
    "from sklearn.metrics import f1_score #Puntaje F1\n",
    "from sklearn.metrics import roc_auc_score #auc_roc\n",
    "\n",
    "from sklearn.metrics import mean_squared_error\n",
    "from sklearn.linear_model import LinearRegression\n",
    "from sklearn.metrics import r2_score\n",
    "from math import sqrt\n",
    "\n",
    "import warnings\n",
    "warnings.filterwarnings('ignore')"
   ]
  },
  {
   "cell_type": "code",
   "execution_count": 4,
   "metadata": {},
   "outputs": [],
   "source": [
    "df = pd.read_csv('winequality-red.csv', sep=\";\")"
   ]
  },
  {
   "cell_type": "code",
   "execution_count": 5,
   "metadata": {
    "scrolled": true
   },
   "outputs": [
    {
     "data": {
      "text/html": [
       "<div>\n",
       "<style scoped>\n",
       "    .dataframe tbody tr th:only-of-type {\n",
       "        vertical-align: middle;\n",
       "    }\n",
       "\n",
       "    .dataframe tbody tr th {\n",
       "        vertical-align: top;\n",
       "    }\n",
       "\n",
       "    .dataframe thead th {\n",
       "        text-align: right;\n",
       "    }\n",
       "</style>\n",
       "<table border=\"1\" class=\"dataframe\">\n",
       "  <thead>\n",
       "    <tr style=\"text-align: right;\">\n",
       "      <th></th>\n",
       "      <th>0</th>\n",
       "      <th>1</th>\n",
       "      <th>2</th>\n",
       "      <th>3</th>\n",
       "      <th>4</th>\n",
       "      <th>5</th>\n",
       "      <th>6</th>\n",
       "      <th>7</th>\n",
       "      <th>8</th>\n",
       "      <th>9</th>\n",
       "      <th>10</th>\n",
       "      <th>11</th>\n",
       "    </tr>\n",
       "  </thead>\n",
       "  <tbody>\n",
       "    <tr>\n",
       "      <th>0</th>\n",
       "      <td>fixed acidity</td>\n",
       "      <td>volatile acidity</td>\n",
       "      <td>citric acid</td>\n",
       "      <td>residual sugar</td>\n",
       "      <td>chlorides</td>\n",
       "      <td>free sulfur dioxide</td>\n",
       "      <td>total sulfur dioxide</td>\n",
       "      <td>density</td>\n",
       "      <td>pH</td>\n",
       "      <td>sulphates</td>\n",
       "      <td>alcohol</td>\n",
       "      <td>quality</td>\n",
       "    </tr>\n",
       "    <tr>\n",
       "      <th>1</th>\n",
       "      <td>7.4</td>\n",
       "      <td>0.7</td>\n",
       "      <td>0</td>\n",
       "      <td>1.9</td>\n",
       "      <td>0.076</td>\n",
       "      <td>11</td>\n",
       "      <td>34</td>\n",
       "      <td>0.9978</td>\n",
       "      <td>3.51</td>\n",
       "      <td>0.56</td>\n",
       "      <td>9.4</td>\n",
       "      <td>5</td>\n",
       "    </tr>\n",
       "    <tr>\n",
       "      <th>2</th>\n",
       "      <td>7.8</td>\n",
       "      <td>0.88</td>\n",
       "      <td>0</td>\n",
       "      <td>2.6</td>\n",
       "      <td>0.098</td>\n",
       "      <td>25</td>\n",
       "      <td>67</td>\n",
       "      <td>0.9968</td>\n",
       "      <td>3.2</td>\n",
       "      <td>0.68</td>\n",
       "      <td>9.8</td>\n",
       "      <td>5</td>\n",
       "    </tr>\n",
       "    <tr>\n",
       "      <th>3</th>\n",
       "      <td>7.8</td>\n",
       "      <td>0.76</td>\n",
       "      <td>0.04</td>\n",
       "      <td>2.3</td>\n",
       "      <td>0.092</td>\n",
       "      <td>15</td>\n",
       "      <td>54</td>\n",
       "      <td>0.997</td>\n",
       "      <td>3.26</td>\n",
       "      <td>0.65</td>\n",
       "      <td>9.8</td>\n",
       "      <td>5</td>\n",
       "    </tr>\n",
       "    <tr>\n",
       "      <th>4</th>\n",
       "      <td>11.2</td>\n",
       "      <td>0.28</td>\n",
       "      <td>0.56</td>\n",
       "      <td>1.9</td>\n",
       "      <td>0.075</td>\n",
       "      <td>17</td>\n",
       "      <td>60</td>\n",
       "      <td>0.998</td>\n",
       "      <td>3.16</td>\n",
       "      <td>0.58</td>\n",
       "      <td>9.8</td>\n",
       "      <td>6</td>\n",
       "    </tr>\n",
       "    <tr>\n",
       "      <th>5</th>\n",
       "      <td>7.4</td>\n",
       "      <td>0.7</td>\n",
       "      <td>0</td>\n",
       "      <td>1.9</td>\n",
       "      <td>0.076</td>\n",
       "      <td>11</td>\n",
       "      <td>34</td>\n",
       "      <td>0.9978</td>\n",
       "      <td>3.51</td>\n",
       "      <td>0.56</td>\n",
       "      <td>9.4</td>\n",
       "      <td>5</td>\n",
       "    </tr>\n",
       "    <tr>\n",
       "      <th>6</th>\n",
       "      <td>7.4</td>\n",
       "      <td>0.66</td>\n",
       "      <td>0</td>\n",
       "      <td>1.8</td>\n",
       "      <td>0.075</td>\n",
       "      <td>13</td>\n",
       "      <td>40</td>\n",
       "      <td>0.9978</td>\n",
       "      <td>3.51</td>\n",
       "      <td>0.56</td>\n",
       "      <td>9.4</td>\n",
       "      <td>5</td>\n",
       "    </tr>\n",
       "    <tr>\n",
       "      <th>7</th>\n",
       "      <td>7.9</td>\n",
       "      <td>0.6</td>\n",
       "      <td>0.06</td>\n",
       "      <td>1.6</td>\n",
       "      <td>0.069</td>\n",
       "      <td>15</td>\n",
       "      <td>59</td>\n",
       "      <td>0.9964</td>\n",
       "      <td>3.3</td>\n",
       "      <td>0.46</td>\n",
       "      <td>9.4</td>\n",
       "      <td>5</td>\n",
       "    </tr>\n",
       "    <tr>\n",
       "      <th>8</th>\n",
       "      <td>7.3</td>\n",
       "      <td>0.65</td>\n",
       "      <td>0</td>\n",
       "      <td>1.2</td>\n",
       "      <td>0.065</td>\n",
       "      <td>15</td>\n",
       "      <td>21</td>\n",
       "      <td>0.9946</td>\n",
       "      <td>3.39</td>\n",
       "      <td>0.47</td>\n",
       "      <td>10</td>\n",
       "      <td>7</td>\n",
       "    </tr>\n",
       "    <tr>\n",
       "      <th>9</th>\n",
       "      <td>7.8</td>\n",
       "      <td>0.58</td>\n",
       "      <td>0.02</td>\n",
       "      <td>2</td>\n",
       "      <td>0.073</td>\n",
       "      <td>9</td>\n",
       "      <td>18</td>\n",
       "      <td>0.9968</td>\n",
       "      <td>3.36</td>\n",
       "      <td>0.57</td>\n",
       "      <td>9.5</td>\n",
       "      <td>7</td>\n",
       "    </tr>\n",
       "    <tr>\n",
       "      <th>10</th>\n",
       "      <td>7.5</td>\n",
       "      <td>0.5</td>\n",
       "      <td>0.36</td>\n",
       "      <td>6.1</td>\n",
       "      <td>0.071</td>\n",
       "      <td>17</td>\n",
       "      <td>102</td>\n",
       "      <td>0.9978</td>\n",
       "      <td>3.35</td>\n",
       "      <td>0.8</td>\n",
       "      <td>10.5</td>\n",
       "      <td>5</td>\n",
       "    </tr>\n",
       "    <tr>\n",
       "      <th>11</th>\n",
       "      <td>6.7</td>\n",
       "      <td>0.58</td>\n",
       "      <td>0.08</td>\n",
       "      <td>1.8</td>\n",
       "      <td>0.097</td>\n",
       "      <td>15</td>\n",
       "      <td>65</td>\n",
       "      <td>0.9959</td>\n",
       "      <td>3.28</td>\n",
       "      <td>0.54</td>\n",
       "      <td>9.2</td>\n",
       "      <td>5</td>\n",
       "    </tr>\n",
       "    <tr>\n",
       "      <th>12</th>\n",
       "      <td>7.5</td>\n",
       "      <td>0.5</td>\n",
       "      <td>0.36</td>\n",
       "      <td>6.1</td>\n",
       "      <td>0.071</td>\n",
       "      <td>17</td>\n",
       "      <td>102</td>\n",
       "      <td>0.9978</td>\n",
       "      <td>3.35</td>\n",
       "      <td>0.8</td>\n",
       "      <td>10.5</td>\n",
       "      <td>5</td>\n",
       "    </tr>\n",
       "    <tr>\n",
       "      <th>13</th>\n",
       "      <td>5.6</td>\n",
       "      <td>0.615</td>\n",
       "      <td>0</td>\n",
       "      <td>1.6</td>\n",
       "      <td>0.089</td>\n",
       "      <td>16</td>\n",
       "      <td>59</td>\n",
       "      <td>0.9943</td>\n",
       "      <td>3.58</td>\n",
       "      <td>0.52</td>\n",
       "      <td>9.9</td>\n",
       "      <td>5</td>\n",
       "    </tr>\n",
       "    <tr>\n",
       "      <th>14</th>\n",
       "      <td>7.8</td>\n",
       "      <td>0.61</td>\n",
       "      <td>0.29</td>\n",
       "      <td>1.6</td>\n",
       "      <td>0.114</td>\n",
       "      <td>9</td>\n",
       "      <td>29</td>\n",
       "      <td>0.9974</td>\n",
       "      <td>3.26</td>\n",
       "      <td>1.56</td>\n",
       "      <td>9.1</td>\n",
       "      <td>5</td>\n",
       "    </tr>\n",
       "    <tr>\n",
       "      <th>15</th>\n",
       "      <td>8.9</td>\n",
       "      <td>0.62</td>\n",
       "      <td>0.18</td>\n",
       "      <td>3.8</td>\n",
       "      <td>0.176</td>\n",
       "      <td>52</td>\n",
       "      <td>145</td>\n",
       "      <td>0.9986</td>\n",
       "      <td>3.16</td>\n",
       "      <td>0.88</td>\n",
       "      <td>9.2</td>\n",
       "      <td>5</td>\n",
       "    </tr>\n",
       "    <tr>\n",
       "      <th>16</th>\n",
       "      <td>8.9</td>\n",
       "      <td>0.62</td>\n",
       "      <td>0.19</td>\n",
       "      <td>3.9</td>\n",
       "      <td>0.17</td>\n",
       "      <td>51</td>\n",
       "      <td>148</td>\n",
       "      <td>0.9986</td>\n",
       "      <td>3.17</td>\n",
       "      <td>0.93</td>\n",
       "      <td>9.2</td>\n",
       "      <td>5</td>\n",
       "    </tr>\n",
       "    <tr>\n",
       "      <th>17</th>\n",
       "      <td>8.5</td>\n",
       "      <td>0.28</td>\n",
       "      <td>0.56</td>\n",
       "      <td>1.8</td>\n",
       "      <td>0.092</td>\n",
       "      <td>35</td>\n",
       "      <td>103</td>\n",
       "      <td>0.9969</td>\n",
       "      <td>3.3</td>\n",
       "      <td>0.75</td>\n",
       "      <td>10.5</td>\n",
       "      <td>7</td>\n",
       "    </tr>\n",
       "    <tr>\n",
       "      <th>18</th>\n",
       "      <td>8.1</td>\n",
       "      <td>0.56</td>\n",
       "      <td>0.28</td>\n",
       "      <td>1.7</td>\n",
       "      <td>0.368</td>\n",
       "      <td>16</td>\n",
       "      <td>56</td>\n",
       "      <td>0.9968</td>\n",
       "      <td>3.11</td>\n",
       "      <td>1.28</td>\n",
       "      <td>9.3</td>\n",
       "      <td>5</td>\n",
       "    </tr>\n",
       "    <tr>\n",
       "      <th>19</th>\n",
       "      <td>7.4</td>\n",
       "      <td>0.59</td>\n",
       "      <td>0.08</td>\n",
       "      <td>4.4</td>\n",
       "      <td>0.086</td>\n",
       "      <td>6</td>\n",
       "      <td>29</td>\n",
       "      <td>0.9974</td>\n",
       "      <td>3.38</td>\n",
       "      <td>0.5</td>\n",
       "      <td>9</td>\n",
       "      <td>4</td>\n",
       "    </tr>\n",
       "  </tbody>\n",
       "</table>\n",
       "</div>"
      ],
      "text/plain": [
       "               0                 1            2               3          4   \\\n",
       "0   fixed acidity  volatile acidity  citric acid  residual sugar  chlorides   \n",
       "1             7.4               0.7            0             1.9      0.076   \n",
       "2             7.8              0.88            0             2.6      0.098   \n",
       "3             7.8              0.76         0.04             2.3      0.092   \n",
       "4            11.2              0.28         0.56             1.9      0.075   \n",
       "5             7.4               0.7            0             1.9      0.076   \n",
       "6             7.4              0.66            0             1.8      0.075   \n",
       "7             7.9               0.6         0.06             1.6      0.069   \n",
       "8             7.3              0.65            0             1.2      0.065   \n",
       "9             7.8              0.58         0.02               2      0.073   \n",
       "10            7.5               0.5         0.36             6.1      0.071   \n",
       "11            6.7              0.58         0.08             1.8      0.097   \n",
       "12            7.5               0.5         0.36             6.1      0.071   \n",
       "13            5.6             0.615            0             1.6      0.089   \n",
       "14            7.8              0.61         0.29             1.6      0.114   \n",
       "15            8.9              0.62         0.18             3.8      0.176   \n",
       "16            8.9              0.62         0.19             3.9       0.17   \n",
       "17            8.5              0.28         0.56             1.8      0.092   \n",
       "18            8.1              0.56         0.28             1.7      0.368   \n",
       "19            7.4              0.59         0.08             4.4      0.086   \n",
       "\n",
       "                     5                     6        7     8          9   \\\n",
       "0   free sulfur dioxide  total sulfur dioxide  density    pH  sulphates   \n",
       "1                    11                    34   0.9978  3.51       0.56   \n",
       "2                    25                    67   0.9968   3.2       0.68   \n",
       "3                    15                    54    0.997  3.26       0.65   \n",
       "4                    17                    60    0.998  3.16       0.58   \n",
       "5                    11                    34   0.9978  3.51       0.56   \n",
       "6                    13                    40   0.9978  3.51       0.56   \n",
       "7                    15                    59   0.9964   3.3       0.46   \n",
       "8                    15                    21   0.9946  3.39       0.47   \n",
       "9                     9                    18   0.9968  3.36       0.57   \n",
       "10                   17                   102   0.9978  3.35        0.8   \n",
       "11                   15                    65   0.9959  3.28       0.54   \n",
       "12                   17                   102   0.9978  3.35        0.8   \n",
       "13                   16                    59   0.9943  3.58       0.52   \n",
       "14                    9                    29   0.9974  3.26       1.56   \n",
       "15                   52                   145   0.9986  3.16       0.88   \n",
       "16                   51                   148   0.9986  3.17       0.93   \n",
       "17                   35                   103   0.9969   3.3       0.75   \n",
       "18                   16                    56   0.9968  3.11       1.28   \n",
       "19                    6                    29   0.9974  3.38        0.5   \n",
       "\n",
       "         10       11  \n",
       "0   alcohol  quality  \n",
       "1       9.4        5  \n",
       "2       9.8        5  \n",
       "3       9.8        5  \n",
       "4       9.8        6  \n",
       "5       9.4        5  \n",
       "6       9.4        5  \n",
       "7       9.4        5  \n",
       "8        10        7  \n",
       "9       9.5        7  \n",
       "10     10.5        5  \n",
       "11      9.2        5  \n",
       "12     10.5        5  \n",
       "13      9.9        5  \n",
       "14      9.1        5  \n",
       "15      9.2        5  \n",
       "16      9.2        5  \n",
       "17     10.5        7  \n",
       "18      9.3        5  \n",
       "19        9        4  "
      ]
     },
     "execution_count": 5,
     "metadata": {},
     "output_type": "execute_result"
    }
   ],
   "source": [
    "df.head(20)"
   ]
  },
  {
   "cell_type": "code",
   "execution_count": 10,
   "metadata": {
    "scrolled": false
   },
   "outputs": [
    {
     "name": "stdout",
     "output_type": "stream",
     "text": [
      "<class 'pandas.core.frame.DataFrame'>\n",
      "RangeIndex: 1599 entries, 0 to 1598\n",
      "Data columns (total 12 columns):\n",
      " #   Column                Non-Null Count  Dtype  \n",
      "---  ------                --------------  -----  \n",
      " 0   fixed acidity         1599 non-null   float64\n",
      " 1   volatile acidity      1599 non-null   float64\n",
      " 2   citric acid           1599 non-null   float64\n",
      " 3   residual sugar        1599 non-null   float64\n",
      " 4   chlorides             1599 non-null   float64\n",
      " 5   free sulfur dioxide   1599 non-null   float64\n",
      " 6   total sulfur dioxide  1599 non-null   float64\n",
      " 7   density               1599 non-null   float64\n",
      " 8   pH                    1599 non-null   float64\n",
      " 9   sulphates             1599 non-null   float64\n",
      " 10  alcohol               1599 non-null   float64\n",
      " 11  quality               1599 non-null   int64  \n",
      "dtypes: float64(11), int64(1)\n",
      "memory usage: 150.0 KB\n"
     ]
    }
   ],
   "source": [
    "#comprobar si en el DataFrame hay valores nulos y verificar los tipos de datos\n",
    "\n",
    "assert df.notnull().all().all()\n",
    "df.info()"
   ]
  },
  {
   "cell_type": "code",
   "execution_count": 11,
   "metadata": {
    "scrolled": true
   },
   "outputs": [
    {
     "data": {
      "text/plain": [
       "fixed acidity           0\n",
       "volatile acidity        0\n",
       "citric acid             0\n",
       "residual sugar          0\n",
       "chlorides               0\n",
       "free sulfur dioxide     0\n",
       "total sulfur dioxide    0\n",
       "density                 0\n",
       "pH                      0\n",
       "sulphates               0\n",
       "alcohol                 0\n",
       "quality                 0\n",
       "dtype: int64"
      ]
     },
     "execution_count": 11,
     "metadata": {},
     "output_type": "execute_result"
    }
   ],
   "source": [
    "df.isnull().sum() # No hay datos nulos en el dataframe "
   ]
  },
  {
   "cell_type": "code",
   "execution_count": 12,
   "metadata": {},
   "outputs": [
    {
     "data": {
      "text/html": [
       "<div>\n",
       "<style scoped>\n",
       "    .dataframe tbody tr th:only-of-type {\n",
       "        vertical-align: middle;\n",
       "    }\n",
       "\n",
       "    .dataframe tbody tr th {\n",
       "        vertical-align: top;\n",
       "    }\n",
       "\n",
       "    .dataframe thead th {\n",
       "        text-align: right;\n",
       "    }\n",
       "</style>\n",
       "<table border=\"1\" class=\"dataframe\">\n",
       "  <thead>\n",
       "    <tr style=\"text-align: right;\">\n",
       "      <th></th>\n",
       "      <th>fixed acidity</th>\n",
       "      <th>volatile acidity</th>\n",
       "      <th>citric acid</th>\n",
       "      <th>residual sugar</th>\n",
       "      <th>chlorides</th>\n",
       "      <th>free sulfur dioxide</th>\n",
       "      <th>total sulfur dioxide</th>\n",
       "      <th>density</th>\n",
       "      <th>pH</th>\n",
       "      <th>sulphates</th>\n",
       "      <th>alcohol</th>\n",
       "      <th>quality</th>\n",
       "    </tr>\n",
       "  </thead>\n",
       "  <tbody>\n",
       "    <tr>\n",
       "      <th>count</th>\n",
       "      <td>1599.000000</td>\n",
       "      <td>1599.000000</td>\n",
       "      <td>1599.000000</td>\n",
       "      <td>1599.000000</td>\n",
       "      <td>1599.000000</td>\n",
       "      <td>1599.000000</td>\n",
       "      <td>1599.000000</td>\n",
       "      <td>1599.000000</td>\n",
       "      <td>1599.000000</td>\n",
       "      <td>1599.000000</td>\n",
       "      <td>1599.000000</td>\n",
       "      <td>1599.000000</td>\n",
       "    </tr>\n",
       "    <tr>\n",
       "      <th>mean</th>\n",
       "      <td>8.319637</td>\n",
       "      <td>0.527821</td>\n",
       "      <td>0.270976</td>\n",
       "      <td>2.538806</td>\n",
       "      <td>0.087467</td>\n",
       "      <td>15.874922</td>\n",
       "      <td>46.467792</td>\n",
       "      <td>0.996747</td>\n",
       "      <td>3.311113</td>\n",
       "      <td>0.658149</td>\n",
       "      <td>10.422983</td>\n",
       "      <td>5.636023</td>\n",
       "    </tr>\n",
       "    <tr>\n",
       "      <th>std</th>\n",
       "      <td>1.741096</td>\n",
       "      <td>0.179060</td>\n",
       "      <td>0.194801</td>\n",
       "      <td>1.409928</td>\n",
       "      <td>0.047065</td>\n",
       "      <td>10.460157</td>\n",
       "      <td>32.895324</td>\n",
       "      <td>0.001887</td>\n",
       "      <td>0.154386</td>\n",
       "      <td>0.169507</td>\n",
       "      <td>1.065668</td>\n",
       "      <td>0.807569</td>\n",
       "    </tr>\n",
       "    <tr>\n",
       "      <th>min</th>\n",
       "      <td>4.600000</td>\n",
       "      <td>0.120000</td>\n",
       "      <td>0.000000</td>\n",
       "      <td>0.900000</td>\n",
       "      <td>0.012000</td>\n",
       "      <td>1.000000</td>\n",
       "      <td>6.000000</td>\n",
       "      <td>0.990070</td>\n",
       "      <td>2.740000</td>\n",
       "      <td>0.330000</td>\n",
       "      <td>8.400000</td>\n",
       "      <td>3.000000</td>\n",
       "    </tr>\n",
       "    <tr>\n",
       "      <th>25%</th>\n",
       "      <td>7.100000</td>\n",
       "      <td>0.390000</td>\n",
       "      <td>0.090000</td>\n",
       "      <td>1.900000</td>\n",
       "      <td>0.070000</td>\n",
       "      <td>7.000000</td>\n",
       "      <td>22.000000</td>\n",
       "      <td>0.995600</td>\n",
       "      <td>3.210000</td>\n",
       "      <td>0.550000</td>\n",
       "      <td>9.500000</td>\n",
       "      <td>5.000000</td>\n",
       "    </tr>\n",
       "    <tr>\n",
       "      <th>50%</th>\n",
       "      <td>7.900000</td>\n",
       "      <td>0.520000</td>\n",
       "      <td>0.260000</td>\n",
       "      <td>2.200000</td>\n",
       "      <td>0.079000</td>\n",
       "      <td>14.000000</td>\n",
       "      <td>38.000000</td>\n",
       "      <td>0.996750</td>\n",
       "      <td>3.310000</td>\n",
       "      <td>0.620000</td>\n",
       "      <td>10.200000</td>\n",
       "      <td>6.000000</td>\n",
       "    </tr>\n",
       "    <tr>\n",
       "      <th>75%</th>\n",
       "      <td>9.200000</td>\n",
       "      <td>0.640000</td>\n",
       "      <td>0.420000</td>\n",
       "      <td>2.600000</td>\n",
       "      <td>0.090000</td>\n",
       "      <td>21.000000</td>\n",
       "      <td>62.000000</td>\n",
       "      <td>0.997835</td>\n",
       "      <td>3.400000</td>\n",
       "      <td>0.730000</td>\n",
       "      <td>11.100000</td>\n",
       "      <td>6.000000</td>\n",
       "    </tr>\n",
       "    <tr>\n",
       "      <th>max</th>\n",
       "      <td>15.900000</td>\n",
       "      <td>1.580000</td>\n",
       "      <td>1.000000</td>\n",
       "      <td>15.500000</td>\n",
       "      <td>0.611000</td>\n",
       "      <td>72.000000</td>\n",
       "      <td>289.000000</td>\n",
       "      <td>1.003690</td>\n",
       "      <td>4.010000</td>\n",
       "      <td>2.000000</td>\n",
       "      <td>14.900000</td>\n",
       "      <td>8.000000</td>\n",
       "    </tr>\n",
       "  </tbody>\n",
       "</table>\n",
       "</div>"
      ],
      "text/plain": [
       "       fixed acidity  volatile acidity  citric acid  residual sugar  \\\n",
       "count    1599.000000       1599.000000  1599.000000     1599.000000   \n",
       "mean        8.319637          0.527821     0.270976        2.538806   \n",
       "std         1.741096          0.179060     0.194801        1.409928   \n",
       "min         4.600000          0.120000     0.000000        0.900000   \n",
       "25%         7.100000          0.390000     0.090000        1.900000   \n",
       "50%         7.900000          0.520000     0.260000        2.200000   \n",
       "75%         9.200000          0.640000     0.420000        2.600000   \n",
       "max        15.900000          1.580000     1.000000       15.500000   \n",
       "\n",
       "         chlorides  free sulfur dioxide  total sulfur dioxide      density  \\\n",
       "count  1599.000000          1599.000000           1599.000000  1599.000000   \n",
       "mean      0.087467            15.874922             46.467792     0.996747   \n",
       "std       0.047065            10.460157             32.895324     0.001887   \n",
       "min       0.012000             1.000000              6.000000     0.990070   \n",
       "25%       0.070000             7.000000             22.000000     0.995600   \n",
       "50%       0.079000            14.000000             38.000000     0.996750   \n",
       "75%       0.090000            21.000000             62.000000     0.997835   \n",
       "max       0.611000            72.000000            289.000000     1.003690   \n",
       "\n",
       "                pH    sulphates      alcohol      quality  \n",
       "count  1599.000000  1599.000000  1599.000000  1599.000000  \n",
       "mean      3.311113     0.658149    10.422983     5.636023  \n",
       "std       0.154386     0.169507     1.065668     0.807569  \n",
       "min       2.740000     0.330000     8.400000     3.000000  \n",
       "25%       3.210000     0.550000     9.500000     5.000000  \n",
       "50%       3.310000     0.620000    10.200000     6.000000  \n",
       "75%       3.400000     0.730000    11.100000     6.000000  \n",
       "max       4.010000     2.000000    14.900000     8.000000  "
      ]
     },
     "execution_count": 12,
     "metadata": {},
     "output_type": "execute_result"
    }
   ],
   "source": [
    "#detalles estadísticos\n",
    "\n",
    "df.describe() #ningún vino obtuvo un puntaje inferior a 3 o superior a 9 (sin puntajes perfectos)"
   ]
  },
  {
   "cell_type": "code",
   "execution_count": 13,
   "metadata": {},
   "outputs": [
    {
     "data": {
      "text/plain": [
       "array([[<matplotlib.axes._subplots.AxesSubplot object at 0x00000241E6A7CE48>,\n",
       "        <matplotlib.axes._subplots.AxesSubplot object at 0x00000241E6EDA708>,\n",
       "        <matplotlib.axes._subplots.AxesSubplot object at 0x00000241E6C21388>],\n",
       "       [<matplotlib.axes._subplots.AxesSubplot object at 0x00000241E6C57C08>,\n",
       "        <matplotlib.axes._subplots.AxesSubplot object at 0x00000241E6C97E48>,\n",
       "        <matplotlib.axes._subplots.AxesSubplot object at 0x00000241E6CCA048>],\n",
       "       [<matplotlib.axes._subplots.AxesSubplot object at 0x00000241E6CEE948>,\n",
       "        <matplotlib.axes._subplots.AxesSubplot object at 0x00000241E6D28A88>,\n",
       "        <matplotlib.axes._subplots.AxesSubplot object at 0x00000241E6D33688>],\n",
       "       [<matplotlib.axes._subplots.AxesSubplot object at 0x00000241E6D6A888>,\n",
       "        <matplotlib.axes._subplots.AxesSubplot object at 0x00000241E6DD0DC8>,\n",
       "        <matplotlib.axes._subplots.AxesSubplot object at 0x00000241E7069E48>]],\n",
       "      dtype=object)"
      ]
     },
     "execution_count": 13,
     "metadata": {},
     "output_type": "execute_result"
    },
    {
     "data": {
      "image/png": "[encoded data removed]",
      "text/plain": [
       "<Figure size 720x648 with 12 Axes>"
      ]
     },
     "metadata": {
      "needs_background": "light"
     },
     "output_type": "display_data"
    }
   ],
   "source": [
    "#Histogramas para mostrar la distribución de los valores de las variables\n",
    "df.hist(figsize=(10,9))\n",
    "\n",
    "#Observaciones sobre variables: todas las variables tienen valores atípicos\n",
    "#La calidad tiene la mayoría de los valores concentrados en las categorías de calidad 5,6,7. \n",
    "#Solo una pequeña proporción se encuentra en las categorías [3, 4] y [8, 9] y ninguna en las categorías [1, 2] y 10."
   ]
  },
  {
   "cell_type": "code",
   "execution_count": 14,
   "metadata": {},
   "outputs": [
    {
     "data": {
      "text/plain": [
       "array([5, 6, 7, 4, 8, 3], dtype=int64)"
      ]
     },
     "execution_count": 14,
     "metadata": {},
     "output_type": "execute_result"
    }
   ],
   "source": [
    "df['quality'].unique() # datos de calidad que solo se ocupan"
   ]
  },
  {
   "cell_type": "code",
   "execution_count": 9,
   "metadata": {
    "scrolled": true
   },
   "outputs": [
    {
     "data": {
      "text/plain": [
       "5    681\n",
       "6    638\n",
       "7    199\n",
       "4     53\n",
       "8     18\n",
       "3     10\n",
       "Name: quality, dtype: int64"
      ]
     },
     "execution_count": 9,
     "metadata": {},
     "output_type": "execute_result"
    }
   ],
   "source": [
    "df['quality'].value_counts()"
   ]
  },
  {
   "cell_type": "markdown",
   "metadata": {},
   "source": [
    "# EDA"
   ]
  },
  {
   "cell_type": "code",
   "execution_count": 10,
   "metadata": {
    "scrolled": true
   },
   "outputs": [
    {
     "name": "stdout",
     "output_type": "stream",
     "text": [
      "                      fixed acidity  volatile acidity  citric acid  \\\n",
      "fixed acidity              1.000000         -0.256131     0.671703   \n",
      "volatile acidity          -0.256131          1.000000    -0.552496   \n",
      "citric acid                0.671703         -0.552496     1.000000   \n",
      "residual sugar             0.114777          0.001918     0.143577   \n",
      "chlorides                  0.093705          0.061298     0.203823   \n",
      "free sulfur dioxide       -0.153794         -0.010504    -0.060978   \n",
      "total sulfur dioxide      -0.113181          0.076470     0.035533   \n",
      "density                    0.668047          0.022026     0.364947   \n",
      "pH                        -0.682978          0.234937    -0.541904   \n",
      "sulphates                  0.183006         -0.260987     0.312770   \n",
      "alcohol                   -0.061668         -0.202288     0.109903   \n",
      "quality                    0.124052         -0.390558     0.226373   \n",
      "\n",
      "                      residual sugar  chlorides  free sulfur dioxide  \\\n",
      "fixed acidity               0.114777   0.093705            -0.153794   \n",
      "volatile acidity            0.001918   0.061298            -0.010504   \n",
      "citric acid                 0.143577   0.203823            -0.060978   \n",
      "residual sugar              1.000000   0.055610             0.187049   \n",
      "chlorides                   0.055610   1.000000             0.005562   \n",
      "free sulfur dioxide         0.187049   0.005562             1.000000   \n",
      "total sulfur dioxide        0.203028   0.047400             0.667666   \n",
      "density                     0.355283   0.200632            -0.021946   \n",
      "pH                         -0.085652  -0.265026             0.070377   \n",
      "sulphates                   0.005527   0.371260             0.051658   \n",
      "alcohol                     0.042075  -0.221141            -0.069408   \n",
      "quality                     0.013732  -0.128907            -0.050656   \n",
      "\n",
      "                      total sulfur dioxide   density        pH  sulphates  \\\n",
      "fixed acidity                    -0.113181  0.668047 -0.682978   0.183006   \n",
      "volatile acidity                  0.076470  0.022026  0.234937  -0.260987   \n",
      "citric acid                       0.035533  0.364947 -0.541904   0.312770   \n",
      "residual sugar                    0.203028  0.355283 -0.085652   0.005527   \n",
      "chlorides                         0.047400  0.200632 -0.265026   0.371260   \n",
      "free sulfur dioxide               0.667666 -0.021946  0.070377   0.051658   \n",
      "total sulfur dioxide              1.000000  0.071269 -0.066495   0.042947   \n",
      "density                           0.071269  1.000000 -0.341699   0.148506   \n",
      "pH                               -0.066495 -0.341699  1.000000  -0.196648   \n",
      "sulphates                         0.042947  0.148506 -0.196648   1.000000   \n",
      "alcohol                          -0.205654 -0.496180  0.205633   0.093595   \n",
      "quality                          -0.185100 -0.174919 -0.057731   0.251397   \n",
      "\n",
      "                       alcohol   quality  \n",
      "fixed acidity        -0.061668  0.124052  \n",
      "volatile acidity     -0.202288 -0.390558  \n",
      "citric acid           0.109903  0.226373  \n",
      "residual sugar        0.042075  0.013732  \n",
      "chlorides            -0.221141 -0.128907  \n",
      "free sulfur dioxide  -0.069408 -0.050656  \n",
      "total sulfur dioxide -0.205654 -0.185100  \n",
      "density              -0.496180 -0.174919  \n",
      "pH                    0.205633 -0.057731  \n",
      "sulphates             0.093595  0.251397  \n",
      "alcohol               1.000000  0.476166  \n",
      "quality               0.476166  1.000000  \n"
     ]
    }
   ],
   "source": [
    "\n",
    "correlacion = df.corr(method ='pearson')\n",
    "print(correlacion)"
   ]
  },
  {
   "cell_type": "code",
   "execution_count": 15,
   "metadata": {
    "scrolled": true
   },
   "outputs": [
    {
     "data": {
      "text/plain": [
       "<matplotlib.axes._subplots.AxesSubplot at 0x241e74ae488>"
      ]
     },
     "execution_count": 15,
     "metadata": {},
     "output_type": "execute_result"
    },
    {
     "data": {
      "image/png": "[encoded data removed]",
      "text/plain": [
       "<Figure size 864x360 with 2 Axes>"
      ]
     },
     "metadata": {
      "needs_background": "light"
     },
     "output_type": "display_data"
    }
   ],
   "source": [
    "#Mapa de calor de las variables para ver correlacion entre ellas\n",
    "\n",
    "correlacion = df.corr()\n",
    "plt.figure(figsize=(12, 5))\n",
    "sns.heatmap(correlacion, annot=True, linewidths=0, vmin=-1, cmap=\"RdBu_r\", fmt='.0%')"
   ]
  },
  {
   "cell_type": "code",
   "execution_count": 18,
   "metadata": {},
   "outputs": [
    {
     "name": "stdout",
     "output_type": "stream",
     "text": [
      "fixed acidity           False\n",
      "volatile acidity         True\n",
      "citric acid              True\n",
      "residual sugar          False\n",
      "chlorides               False\n",
      "free sulfur dioxide     False\n",
      "total sulfur dioxide    False\n",
      "density                 False\n",
      "pH                      False\n",
      "sulphates                True\n",
      "alcohol                  True\n",
      "quality                  True\n",
      "Name: quality, dtype: bool\n"
     ]
    }
   ],
   "source": [
    "print(abs(correlacion['quality'])> 0.2) #correlación de aproximadamente 0.2 (valor absoluto) para eliminar atributos redundantes"
   ]
  },
  {
   "cell_type": "code",
   "execution_count": 19,
   "metadata": {
    "scrolled": true
   },
   "outputs": [
    {
     "data": {
      "text/plain": [
       "quality                 1.000000\n",
       "alcohol                 0.476166\n",
       "sulphates               0.251397\n",
       "citric acid             0.226373\n",
       "fixed acidity           0.124052\n",
       "residual sugar          0.013732\n",
       "free sulfur dioxide    -0.050656\n",
       "pH                     -0.057731\n",
       "chlorides              -0.128907\n",
       "density                -0.174919\n",
       "total sulfur dioxide   -0.185100\n",
       "volatile acidity       -0.390558\n",
       "Name: quality, dtype: float64"
      ]
     },
     "execution_count": 19,
     "metadata": {},
     "output_type": "execute_result"
    }
   ],
   "source": [
    "# Vemos que tenemos 5 variables de mayor importancia que tienen correlacion con calidad, trabajaremos con alcohol, \n",
    "# sulphates, citric acid, fixed acidity y residual_sugar\n",
    "\n",
    "correlacion['quality'].sort_values(ascending=False)"
   ]
  },
  {
   "cell_type": "code",
   "execution_count": 20,
   "metadata": {
    "scrolled": true
   },
   "outputs": [
    {
     "data": {
      "text/plain": [
       "0    1382\n",
       "1     217\n",
       "Name: Clasificacion, dtype: int64"
      ]
     },
     "execution_count": 20,
     "metadata": {},
     "output_type": "execute_result"
    }
   ],
   "source": [
    "#Como los datos estan desiquilibrados,  transformamos la calidad en datos binarios para clasificarlos en buenos y malos\n",
    "#ocuparemos el rango de promedio, ya que queremos utilizar solo los vinos con mejor reputacion(calidad).\n",
    "\n",
    "def esCalidad(quality):\n",
    "    if quality >= 7:\n",
    "        return 1\n",
    "    else:\n",
    "        return 0\n",
    "df['Clasificacion'] = df['quality'].apply(esCalidad)\n",
    "df['Clasificacion'].value_counts()"
   ]
  },
  {
   "cell_type": "code",
   "execution_count": 21,
   "metadata": {
    "scrolled": true
   },
   "outputs": [
    {
     "data": {
      "text/html": [
       "<div>\n",
       "<style scoped>\n",
       "    .dataframe tbody tr th:only-of-type {\n",
       "        vertical-align: middle;\n",
       "    }\n",
       "\n",
       "    .dataframe tbody tr th {\n",
       "        vertical-align: top;\n",
       "    }\n",
       "\n",
       "    .dataframe thead th {\n",
       "        text-align: right;\n",
       "    }\n",
       "</style>\n",
       "<table border=\"1\" class=\"dataframe\">\n",
       "  <thead>\n",
       "    <tr style=\"text-align: right;\">\n",
       "      <th></th>\n",
       "      <th>fixed acidity</th>\n",
       "      <th>volatile acidity</th>\n",
       "      <th>citric acid</th>\n",
       "      <th>residual sugar</th>\n",
       "      <th>chlorides</th>\n",
       "      <th>free sulfur dioxide</th>\n",
       "      <th>total sulfur dioxide</th>\n",
       "      <th>density</th>\n",
       "      <th>pH</th>\n",
       "      <th>sulphates</th>\n",
       "      <th>alcohol</th>\n",
       "      <th>quality</th>\n",
       "      <th>Clasificacion</th>\n",
       "    </tr>\n",
       "  </thead>\n",
       "  <tbody>\n",
       "    <tr>\n",
       "      <th>0</th>\n",
       "      <td>7.4</td>\n",
       "      <td>0.700</td>\n",
       "      <td>0.00</td>\n",
       "      <td>1.9</td>\n",
       "      <td>0.076</td>\n",
       "      <td>11.0</td>\n",
       "      <td>34.0</td>\n",
       "      <td>0.9978</td>\n",
       "      <td>3.51</td>\n",
       "      <td>0.56</td>\n",
       "      <td>9.4</td>\n",
       "      <td>5</td>\n",
       "      <td>0</td>\n",
       "    </tr>\n",
       "    <tr>\n",
       "      <th>1</th>\n",
       "      <td>7.8</td>\n",
       "      <td>0.880</td>\n",
       "      <td>0.00</td>\n",
       "      <td>2.6</td>\n",
       "      <td>0.098</td>\n",
       "      <td>25.0</td>\n",
       "      <td>67.0</td>\n",
       "      <td>0.9968</td>\n",
       "      <td>3.20</td>\n",
       "      <td>0.68</td>\n",
       "      <td>9.8</td>\n",
       "      <td>5</td>\n",
       "      <td>0</td>\n",
       "    </tr>\n",
       "    <tr>\n",
       "      <th>2</th>\n",
       "      <td>7.8</td>\n",
       "      <td>0.760</td>\n",
       "      <td>0.04</td>\n",
       "      <td>2.3</td>\n",
       "      <td>0.092</td>\n",
       "      <td>15.0</td>\n",
       "      <td>54.0</td>\n",
       "      <td>0.9970</td>\n",
       "      <td>3.26</td>\n",
       "      <td>0.65</td>\n",
       "      <td>9.8</td>\n",
       "      <td>5</td>\n",
       "      <td>0</td>\n",
       "    </tr>\n",
       "    <tr>\n",
       "      <th>3</th>\n",
       "      <td>11.2</td>\n",
       "      <td>0.280</td>\n",
       "      <td>0.56</td>\n",
       "      <td>1.9</td>\n",
       "      <td>0.075</td>\n",
       "      <td>17.0</td>\n",
       "      <td>60.0</td>\n",
       "      <td>0.9980</td>\n",
       "      <td>3.16</td>\n",
       "      <td>0.58</td>\n",
       "      <td>9.8</td>\n",
       "      <td>6</td>\n",
       "      <td>0</td>\n",
       "    </tr>\n",
       "    <tr>\n",
       "      <th>4</th>\n",
       "      <td>7.4</td>\n",
       "      <td>0.700</td>\n",
       "      <td>0.00</td>\n",
       "      <td>1.9</td>\n",
       "      <td>0.076</td>\n",
       "      <td>11.0</td>\n",
       "      <td>34.0</td>\n",
       "      <td>0.9978</td>\n",
       "      <td>3.51</td>\n",
       "      <td>0.56</td>\n",
       "      <td>9.4</td>\n",
       "      <td>5</td>\n",
       "      <td>0</td>\n",
       "    </tr>\n",
       "    <tr>\n",
       "      <th>5</th>\n",
       "      <td>7.4</td>\n",
       "      <td>0.660</td>\n",
       "      <td>0.00</td>\n",
       "      <td>1.8</td>\n",
       "      <td>0.075</td>\n",
       "      <td>13.0</td>\n",
       "      <td>40.0</td>\n",
       "      <td>0.9978</td>\n",
       "      <td>3.51</td>\n",
       "      <td>0.56</td>\n",
       "      <td>9.4</td>\n",
       "      <td>5</td>\n",
       "      <td>0</td>\n",
       "    </tr>\n",
       "    <tr>\n",
       "      <th>6</th>\n",
       "      <td>7.9</td>\n",
       "      <td>0.600</td>\n",
       "      <td>0.06</td>\n",
       "      <td>1.6</td>\n",
       "      <td>0.069</td>\n",
       "      <td>15.0</td>\n",
       "      <td>59.0</td>\n",
       "      <td>0.9964</td>\n",
       "      <td>3.30</td>\n",
       "      <td>0.46</td>\n",
       "      <td>9.4</td>\n",
       "      <td>5</td>\n",
       "      <td>0</td>\n",
       "    </tr>\n",
       "    <tr>\n",
       "      <th>7</th>\n",
       "      <td>7.3</td>\n",
       "      <td>0.650</td>\n",
       "      <td>0.00</td>\n",
       "      <td>1.2</td>\n",
       "      <td>0.065</td>\n",
       "      <td>15.0</td>\n",
       "      <td>21.0</td>\n",
       "      <td>0.9946</td>\n",
       "      <td>3.39</td>\n",
       "      <td>0.47</td>\n",
       "      <td>10.0</td>\n",
       "      <td>7</td>\n",
       "      <td>1</td>\n",
       "    </tr>\n",
       "    <tr>\n",
       "      <th>8</th>\n",
       "      <td>7.8</td>\n",
       "      <td>0.580</td>\n",
       "      <td>0.02</td>\n",
       "      <td>2.0</td>\n",
       "      <td>0.073</td>\n",
       "      <td>9.0</td>\n",
       "      <td>18.0</td>\n",
       "      <td>0.9968</td>\n",
       "      <td>3.36</td>\n",
       "      <td>0.57</td>\n",
       "      <td>9.5</td>\n",
       "      <td>7</td>\n",
       "      <td>1</td>\n",
       "    </tr>\n",
       "    <tr>\n",
       "      <th>9</th>\n",
       "      <td>7.5</td>\n",
       "      <td>0.500</td>\n",
       "      <td>0.36</td>\n",
       "      <td>6.1</td>\n",
       "      <td>0.071</td>\n",
       "      <td>17.0</td>\n",
       "      <td>102.0</td>\n",
       "      <td>0.9978</td>\n",
       "      <td>3.35</td>\n",
       "      <td>0.80</td>\n",
       "      <td>10.5</td>\n",
       "      <td>5</td>\n",
       "      <td>0</td>\n",
       "    </tr>\n",
       "    <tr>\n",
       "      <th>10</th>\n",
       "      <td>6.7</td>\n",
       "      <td>0.580</td>\n",
       "      <td>0.08</td>\n",
       "      <td>1.8</td>\n",
       "      <td>0.097</td>\n",
       "      <td>15.0</td>\n",
       "      <td>65.0</td>\n",
       "      <td>0.9959</td>\n",
       "      <td>3.28</td>\n",
       "      <td>0.54</td>\n",
       "      <td>9.2</td>\n",
       "      <td>5</td>\n",
       "      <td>0</td>\n",
       "    </tr>\n",
       "    <tr>\n",
       "      <th>11</th>\n",
       "      <td>7.5</td>\n",
       "      <td>0.500</td>\n",
       "      <td>0.36</td>\n",
       "      <td>6.1</td>\n",
       "      <td>0.071</td>\n",
       "      <td>17.0</td>\n",
       "      <td>102.0</td>\n",
       "      <td>0.9978</td>\n",
       "      <td>3.35</td>\n",
       "      <td>0.80</td>\n",
       "      <td>10.5</td>\n",
       "      <td>5</td>\n",
       "      <td>0</td>\n",
       "    </tr>\n",
       "    <tr>\n",
       "      <th>12</th>\n",
       "      <td>5.6</td>\n",
       "      <td>0.615</td>\n",
       "      <td>0.00</td>\n",
       "      <td>1.6</td>\n",
       "      <td>0.089</td>\n",
       "      <td>16.0</td>\n",
       "      <td>59.0</td>\n",
       "      <td>0.9943</td>\n",
       "      <td>3.58</td>\n",
       "      <td>0.52</td>\n",
       "      <td>9.9</td>\n",
       "      <td>5</td>\n",
       "      <td>0</td>\n",
       "    </tr>\n",
       "    <tr>\n",
       "      <th>13</th>\n",
       "      <td>7.8</td>\n",
       "      <td>0.610</td>\n",
       "      <td>0.29</td>\n",
       "      <td>1.6</td>\n",
       "      <td>0.114</td>\n",
       "      <td>9.0</td>\n",
       "      <td>29.0</td>\n",
       "      <td>0.9974</td>\n",
       "      <td>3.26</td>\n",
       "      <td>1.56</td>\n",
       "      <td>9.1</td>\n",
       "      <td>5</td>\n",
       "      <td>0</td>\n",
       "    </tr>\n",
       "    <tr>\n",
       "      <th>14</th>\n",
       "      <td>8.9</td>\n",
       "      <td>0.620</td>\n",
       "      <td>0.18</td>\n",
       "      <td>3.8</td>\n",
       "      <td>0.176</td>\n",
       "      <td>52.0</td>\n",
       "      <td>145.0</td>\n",
       "      <td>0.9986</td>\n",
       "      <td>3.16</td>\n",
       "      <td>0.88</td>\n",
       "      <td>9.2</td>\n",
       "      <td>5</td>\n",
       "      <td>0</td>\n",
       "    </tr>\n",
       "    <tr>\n",
       "      <th>15</th>\n",
       "      <td>8.9</td>\n",
       "      <td>0.620</td>\n",
       "      <td>0.19</td>\n",
       "      <td>3.9</td>\n",
       "      <td>0.170</td>\n",
       "      <td>51.0</td>\n",
       "      <td>148.0</td>\n",
       "      <td>0.9986</td>\n",
       "      <td>3.17</td>\n",
       "      <td>0.93</td>\n",
       "      <td>9.2</td>\n",
       "      <td>5</td>\n",
       "      <td>0</td>\n",
       "    </tr>\n",
       "    <tr>\n",
       "      <th>16</th>\n",
       "      <td>8.5</td>\n",
       "      <td>0.280</td>\n",
       "      <td>0.56</td>\n",
       "      <td>1.8</td>\n",
       "      <td>0.092</td>\n",
       "      <td>35.0</td>\n",
       "      <td>103.0</td>\n",
       "      <td>0.9969</td>\n",
       "      <td>3.30</td>\n",
       "      <td>0.75</td>\n",
       "      <td>10.5</td>\n",
       "      <td>7</td>\n",
       "      <td>1</td>\n",
       "    </tr>\n",
       "    <tr>\n",
       "      <th>17</th>\n",
       "      <td>8.1</td>\n",
       "      <td>0.560</td>\n",
       "      <td>0.28</td>\n",
       "      <td>1.7</td>\n",
       "      <td>0.368</td>\n",
       "      <td>16.0</td>\n",
       "      <td>56.0</td>\n",
       "      <td>0.9968</td>\n",
       "      <td>3.11</td>\n",
       "      <td>1.28</td>\n",
       "      <td>9.3</td>\n",
       "      <td>5</td>\n",
       "      <td>0</td>\n",
       "    </tr>\n",
       "    <tr>\n",
       "      <th>18</th>\n",
       "      <td>7.4</td>\n",
       "      <td>0.590</td>\n",
       "      <td>0.08</td>\n",
       "      <td>4.4</td>\n",
       "      <td>0.086</td>\n",
       "      <td>6.0</td>\n",
       "      <td>29.0</td>\n",
       "      <td>0.9974</td>\n",
       "      <td>3.38</td>\n",
       "      <td>0.50</td>\n",
       "      <td>9.0</td>\n",
       "      <td>4</td>\n",
       "      <td>0</td>\n",
       "    </tr>\n",
       "    <tr>\n",
       "      <th>19</th>\n",
       "      <td>7.9</td>\n",
       "      <td>0.320</td>\n",
       "      <td>0.51</td>\n",
       "      <td>1.8</td>\n",
       "      <td>0.341</td>\n",
       "      <td>17.0</td>\n",
       "      <td>56.0</td>\n",
       "      <td>0.9969</td>\n",
       "      <td>3.04</td>\n",
       "      <td>1.08</td>\n",
       "      <td>9.2</td>\n",
       "      <td>6</td>\n",
       "      <td>0</td>\n",
       "    </tr>\n",
       "    <tr>\n",
       "      <th>20</th>\n",
       "      <td>8.9</td>\n",
       "      <td>0.220</td>\n",
       "      <td>0.48</td>\n",
       "      <td>1.8</td>\n",
       "      <td>0.077</td>\n",
       "      <td>29.0</td>\n",
       "      <td>60.0</td>\n",
       "      <td>0.9968</td>\n",
       "      <td>3.39</td>\n",
       "      <td>0.53</td>\n",
       "      <td>9.4</td>\n",
       "      <td>6</td>\n",
       "      <td>0</td>\n",
       "    </tr>\n",
       "    <tr>\n",
       "      <th>21</th>\n",
       "      <td>7.6</td>\n",
       "      <td>0.390</td>\n",
       "      <td>0.31</td>\n",
       "      <td>2.3</td>\n",
       "      <td>0.082</td>\n",
       "      <td>23.0</td>\n",
       "      <td>71.0</td>\n",
       "      <td>0.9982</td>\n",
       "      <td>3.52</td>\n",
       "      <td>0.65</td>\n",
       "      <td>9.7</td>\n",
       "      <td>5</td>\n",
       "      <td>0</td>\n",
       "    </tr>\n",
       "    <tr>\n",
       "      <th>22</th>\n",
       "      <td>7.9</td>\n",
       "      <td>0.430</td>\n",
       "      <td>0.21</td>\n",
       "      <td>1.6</td>\n",
       "      <td>0.106</td>\n",
       "      <td>10.0</td>\n",
       "      <td>37.0</td>\n",
       "      <td>0.9966</td>\n",
       "      <td>3.17</td>\n",
       "      <td>0.91</td>\n",
       "      <td>9.5</td>\n",
       "      <td>5</td>\n",
       "      <td>0</td>\n",
       "    </tr>\n",
       "    <tr>\n",
       "      <th>23</th>\n",
       "      <td>8.5</td>\n",
       "      <td>0.490</td>\n",
       "      <td>0.11</td>\n",
       "      <td>2.3</td>\n",
       "      <td>0.084</td>\n",
       "      <td>9.0</td>\n",
       "      <td>67.0</td>\n",
       "      <td>0.9968</td>\n",
       "      <td>3.17</td>\n",
       "      <td>0.53</td>\n",
       "      <td>9.4</td>\n",
       "      <td>5</td>\n",
       "      <td>0</td>\n",
       "    </tr>\n",
       "    <tr>\n",
       "      <th>24</th>\n",
       "      <td>6.9</td>\n",
       "      <td>0.400</td>\n",
       "      <td>0.14</td>\n",
       "      <td>2.4</td>\n",
       "      <td>0.085</td>\n",
       "      <td>21.0</td>\n",
       "      <td>40.0</td>\n",
       "      <td>0.9968</td>\n",
       "      <td>3.43</td>\n",
       "      <td>0.63</td>\n",
       "      <td>9.7</td>\n",
       "      <td>6</td>\n",
       "      <td>0</td>\n",
       "    </tr>\n",
       "  </tbody>\n",
       "</table>\n",
       "</div>"
      ],
      "text/plain": [
       "    fixed acidity  volatile acidity  citric acid  residual sugar  chlorides  \\\n",
       "0             7.4             0.700         0.00             1.9      0.076   \n",
       "1             7.8             0.880         0.00             2.6      0.098   \n",
       "2             7.8             0.760         0.04             2.3      0.092   \n",
       "3            11.2             0.280         0.56             1.9      0.075   \n",
       "4             7.4             0.700         0.00             1.9      0.076   \n",
       "5             7.4             0.660         0.00             1.8      0.075   \n",
       "6             7.9             0.600         0.06             1.6      0.069   \n",
       "7             7.3             0.650         0.00             1.2      0.065   \n",
       "8             7.8             0.580         0.02             2.0      0.073   \n",
       "9             7.5             0.500         0.36             6.1      0.071   \n",
       "10            6.7             0.580         0.08             1.8      0.097   \n",
       "11            7.5             0.500         0.36             6.1      0.071   \n",
       "12            5.6             0.615         0.00             1.6      0.089   \n",
       "13            7.8             0.610         0.29             1.6      0.114   \n",
       "14            8.9             0.620         0.18             3.8      0.176   \n",
       "15            8.9             0.620         0.19             3.9      0.170   \n",
       "16            8.5             0.280         0.56             1.8      0.092   \n",
       "17            8.1             0.560         0.28             1.7      0.368   \n",
       "18            7.4             0.590         0.08             4.4      0.086   \n",
       "19            7.9             0.320         0.51             1.8      0.341   \n",
       "20            8.9             0.220         0.48             1.8      0.077   \n",
       "21            7.6             0.390         0.31             2.3      0.082   \n",
       "22            7.9             0.430         0.21             1.6      0.106   \n",
       "23            8.5             0.490         0.11             2.3      0.084   \n",
       "24            6.9             0.400         0.14             2.4      0.085   \n",
       "\n",
       "    free sulfur dioxide  total sulfur dioxide  density    pH  sulphates  \\\n",
       "0                  11.0                  34.0   0.9978  3.51       0.56   \n",
       "1                  25.0                  67.0   0.9968  3.20       0.68   \n",
       "2                  15.0                  54.0   0.9970  3.26       0.65   \n",
       "3                  17.0                  60.0   0.9980  3.16       0.58   \n",
       "4                  11.0                  34.0   0.9978  3.51       0.56   \n",
       "5                  13.0                  40.0   0.9978  3.51       0.56   \n",
       "6                  15.0                  59.0   0.9964  3.30       0.46   \n",
       "7                  15.0                  21.0   0.9946  3.39       0.47   \n",
       "8                   9.0                  18.0   0.9968  3.36       0.57   \n",
       "9                  17.0                 102.0   0.9978  3.35       0.80   \n",
       "10                 15.0                  65.0   0.9959  3.28       0.54   \n",
       "11                 17.0                 102.0   0.9978  3.35       0.80   \n",
       "12                 16.0                  59.0   0.9943  3.58       0.52   \n",
       "13                  9.0                  29.0   0.9974  3.26       1.56   \n",
       "14                 52.0                 145.0   0.9986  3.16       0.88   \n",
       "15                 51.0                 148.0   0.9986  3.17       0.93   \n",
       "16                 35.0                 103.0   0.9969  3.30       0.75   \n",
       "17                 16.0                  56.0   0.9968  3.11       1.28   \n",
       "18                  6.0                  29.0   0.9974  3.38       0.50   \n",
       "19                 17.0                  56.0   0.9969  3.04       1.08   \n",
       "20                 29.0                  60.0   0.9968  3.39       0.53   \n",
       "21                 23.0                  71.0   0.9982  3.52       0.65   \n",
       "22                 10.0                  37.0   0.9966  3.17       0.91   \n",
       "23                  9.0                  67.0   0.9968  3.17       0.53   \n",
       "24                 21.0                  40.0   0.9968  3.43       0.63   \n",
       "\n",
       "    alcohol  quality  Clasificacion  \n",
       "0       9.4        5              0  \n",
       "1       9.8        5              0  \n",
       "2       9.8        5              0  \n",
       "3       9.8        6              0  \n",
       "4       9.4        5              0  \n",
       "5       9.4        5              0  \n",
       "6       9.4        5              0  \n",
       "7      10.0        7              1  \n",
       "8       9.5        7              1  \n",
       "9      10.5        5              0  \n",
       "10      9.2        5              0  \n",
       "11     10.5        5              0  \n",
       "12      9.9        5              0  \n",
       "13      9.1        5              0  \n",
       "14      9.2        5              0  \n",
       "15      9.2        5              0  \n",
       "16     10.5        7              1  \n",
       "17      9.3        5              0  \n",
       "18      9.0        4              0  \n",
       "19      9.2        6              0  \n",
       "20      9.4        6              0  \n",
       "21      9.7        5              0  \n",
       "22      9.5        5              0  \n",
       "23      9.4        5              0  \n",
       "24      9.7        6              0  "
      ]
     },
     "execution_count": 21,
     "metadata": {},
     "output_type": "execute_result"
    }
   ],
   "source": [
    "df.head(25)\n"
   ]
  },
  {
   "cell_type": "markdown",
   "metadata": {},
   "source": [
    "# Algoritmos supervisados de ML para el caso\n",
    "## Regresion Logistica"
   ]
  },
  {
   "cell_type": "code",
   "execution_count": 22,
   "metadata": {},
   "outputs": [],
   "source": [
    "#Regresion logistica\n",
    "\n",
    "X = df[['alcohol','sulphates','citric acid','fixed acidity']]\n",
    "Y = df.iloc[:,12]"
   ]
  },
  {
   "cell_type": "code",
   "execution_count": 1,
   "metadata": {},
   "outputs": [
    {
     "ename": "NameError",
     "evalue": "name 'X' is not defined",
     "output_type": "error",
     "traceback": [
      "\u001b[1;31m---------------------------------------------------------------------------\u001b[0m",
      "\u001b[1;31mNameError\u001b[0m                                 Traceback (most recent call last)",
      "\u001b[1;32m<ipython-input-1-da0ba985ed21>\u001b[0m in \u001b[0;36m<module>\u001b[1;34m\u001b[0m\n\u001b[0;32m      2\u001b[0m \u001b[1;33m\u001b[0m\u001b[0m\n\u001b[0;32m      3\u001b[0m \u001b[1;32mfrom\u001b[0m \u001b[0msklearn\u001b[0m\u001b[1;33m.\u001b[0m\u001b[0mpreprocessing\u001b[0m \u001b[1;32mimport\u001b[0m \u001b[0mStandardScaler\u001b[0m\u001b[1;33m\u001b[0m\u001b[1;33m\u001b[0m\u001b[0m\n\u001b[1;32m----> 4\u001b[1;33m \u001b[0mX_standar\u001b[0m \u001b[1;33m=\u001b[0m \u001b[0mX\u001b[0m\u001b[1;33m\u001b[0m\u001b[1;33m\u001b[0m\u001b[0m\n\u001b[0m\u001b[0;32m      5\u001b[0m \u001b[0mX\u001b[0m \u001b[1;33m=\u001b[0m \u001b[0mStandardScaler\u001b[0m\u001b[1;33m(\u001b[0m\u001b[1;33m)\u001b[0m\u001b[1;33m.\u001b[0m\u001b[0mfit_transform\u001b[0m\u001b[1;33m(\u001b[0m\u001b[0mX\u001b[0m\u001b[1;33m)\u001b[0m\u001b[1;33m\u001b[0m\u001b[1;33m\u001b[0m\u001b[0m\n\u001b[0;32m      6\u001b[0m \u001b[1;31m#sc = StandardScaler()\u001b[0m\u001b[1;33m\u001b[0m\u001b[1;33m\u001b[0m\u001b[1;33m\u001b[0m\u001b[0m\n",
      "\u001b[1;31mNameError\u001b[0m: name 'X' is not defined"
     ]
    }
   ],
   "source": [
    "# Estandarizacion las variables de las caracteristicas\n",
    "\n",
    "from sklearn.preprocessing import StandardScaler\n",
    "X_standar = X\n",
    "X = StandardScaler().fit_transform(X)\n",
    "#sc = StandardScaler()\n",
    "#X_train = sc.fit_transform(X_train)\n",
    "#X_test = sc.fit_transform(X_test)\n",
    "\n",
    "\n",
    "# Normalización de las caracteristicas\n",
    "from sklearn.preprocessing import Normalizer\n",
    "\n",
    "X_normalizer = Normalizer().fit_transform(X)\n"
   ]
  },
  {
   "cell_type": "code",
   "execution_count": null,
   "metadata": {},
   "outputs": [],
   "source": [
    "#Divizion de los datos en entrenamiento y prueba \n",
    "\n",
    "X_train, X_test, y_train, y_test = train_test_split(X, Y, test_size=0.2, random_state=0)"
   ]
  },
  {
   "cell_type": "code",
   "execution_count": null,
   "metadata": {},
   "outputs": [],
   "source": [
    "from sklearn.preprocessing import StandardScaler\n",
    "from sklearn.model_selection import train_test_split\n",
    "from sklearn.linear_model import LogisticRegression\n",
    "from sklearn.metrics import confusion_matrix\n",
    "from sklearn.metrics import classification_report\n",
    "\n",
    "modelo = LogisticRegression()"
   ]
  },
  {
   "cell_type": "code",
   "execution_count": 26,
   "metadata": {},
   "outputs": [
    {
     "data": {
      "text/plain": [
       "LogisticRegression(C=1.0, class_weight=None, dual=False, fit_intercept=True,\n",
       "                   intercept_scaling=1, l1_ratio=None, max_iter=100,\n",
       "                   multi_class='auto', n_jobs=None, penalty='l2',\n",
       "                   random_state=None, solver='lbfgs', tol=0.0001, verbose=0,\n",
       "                   warm_start=False)"
      ]
     },
     "execution_count": 26,
     "metadata": {},
     "output_type": "execute_result"
    }
   ],
   "source": [
    "modelo.fit(X_train, y_train)"
   ]
  },
  {
   "cell_type": "code",
   "execution_count": 27,
   "metadata": {},
   "outputs": [],
   "source": [
    "y_pred = modelo.predict(X_test)\n",
    "matriz_modelo_RL = confusion_matrix(y_test, y_pred)\n",
    "reporte_modelo_RL = classification_report(y_test, y_pred)"
   ]
  },
  {
   "cell_type": "code",
   "execution_count": 28,
   "metadata": {
    "scrolled": true
   },
   "outputs": [
    {
     "name": "stdout",
     "output_type": "stream",
     "text": [
      "Datos de entrenamiento\n",
      "[0, 0, 1, 0, 0, 0, 0, 0, 0, 0, 0, 0, 0, 0, 0, 0, 1, 0, 0, 0, 1, 0, 0, 0, 0, 0, 0, 1, 0, 0, 0, 0, 0, 0, 1, 1, 0, 0, 0, 1, 0, 1, 0, 0, 0, 0, 0, 0, 0, 0, 0, 0, 0, 0, 0, 0, 0, 0, 0, 0, 0, 0, 0, 0, 0, 0, 0, 0, 0, 0, 0, 0, 0, 0, 0, 0, 0, 0, 0, 0, 0, 0, 0, 0, 0, 0, 0, 0, 0, 0, 0, 0, 0, 0, 1, 0, 0, 0, 0, 0, 1, 0, 0, 0, 0, 0, 0, 0, 1, 0, 0, 0, 1, 0, 0, 0, 0, 1, 0, 0, 0, 1, 0, 0, 0, 0, 0, 0, 0, 0, 0, 0, 0, 0, 0, 0, 0, 0, 1, 0, 0, 0, 0, 0, 0, 0, 1, 0, 0, 0, 0, 0, 0, 0, 0, 0, 0, 0, 0, 0, 0, 0, 0, 0, 0, 0, 0, 0, 0, 0, 0, 0, 0, 1, 0, 0, 0, 1, 1, 0, 0, 1, 0, 0, 0, 0, 0, 0, 0, 0, 0, 0, 0, 0, 0, 0, 0, 0, 0, 0, 0, 0, 0, 0, 0, 0, 0, 0, 1, 0, 0, 0, 0, 0, 0, 0, 0, 0, 0, 0, 0, 0, 0, 0, 0, 0, 0, 0, 0, 0, 0, 0, 1, 0, 1, 0, 0, 1, 1, 0, 0, 0, 0, 0, 0, 0, 0, 0, 0, 0, 0, 0, 0, 0, 0, 0, 0, 0, 0, 1, 0, 0, 0, 0, 0, 0, 0, 0, 0, 1, 0, 0, 0, 0, 0, 0, 1, 0, 0, 1, 0, 1, 0, 0, 0, 0, 0, 0, 0, 0, 0, 0, 0, 0, 0, 0, 0, 0, 0, 0, 0, 0, 0, 0, 0, 0, 0, 0, 0, 0, 0, 0, 0, 0, 0, 0, 0, 0, 0, 0]\n",
      "Datos obtenidos por prediccion\n",
      "[0 0 0 0 0 0 0 0 0 0 0 0 0 0 0 0 1 0 0 0 0 0 0 0 0 0 0 0 0 0 0 0 0 0 0 0 0\n",
      " 0 0 0 0 0 1 1 0 0 0 0 0 0 0 0 0 1 0 0 0 0 1 0 0 0 0 0 0 0 0 0 0 0 0 0 0 0\n",
      " 0 0 0 0 0 0 0 0 0 0 0 0 0 0 0 0 0 0 0 0 0 0 0 0 0 0 1 0 0 0 0 0 0 0 0 0 0\n",
      " 0 0 0 0 0 0 0 0 0 0 0 0 0 1 0 0 0 0 0 0 0 0 0 0 0 0 0 0 0 0 0 0 0 0 0 0 0\n",
      " 0 0 0 0 0 0 0 0 0 0 0 0 0 0 0 0 0 0 0 0 0 0 0 0 0 1 0 0 0 1 0 0 0 1 0 0 1\n",
      " 0 0 0 0 0 0 0 0 0 0 0 0 0 0 0 0 0 0 0 0 0 0 0 0 0 0 0 0 1 0 0 0 0 0 0 0 0\n",
      " 0 0 0 0 0 0 0 0 0 0 0 0 0 0 0 1 0 0 0 0 0 0 0 0 0 0 0 0 0 0 0 0 0 0 0 0 0\n",
      " 0 0 1 0 0 0 0 0 0 0 0 0 0 0 0 0 0 0 0 0 1 0 1 0 1 0 0 0 0 0 0 0 0 0 0 0 0\n",
      " 0 0 0 0 0 0 0 0 0 0 0 0 0 0 0 0 0 0 0 1 0 0 0 0]\n"
     ]
    }
   ],
   "source": [
    "print('Datos de entrenamiento')\n",
    "print(y_test.to_list())\n",
    "print('Datos obtenidos por prediccion')\n",
    "print(y_pred)"
   ]
  },
  {
   "cell_type": "markdown",
   "metadata": {},
   "source": [
    "## Matriz de Confusion y Reporte RL\n",
    "#### VP es la cantidad de positivos que fueron clasificados correctamente como positivos por el modelo.\n",
    "#### VN es la cantidad de negativos que fueron clasificados correctamente como negativos por el modelo.\n",
    "#### FN es la cantidad de positivos que fueron clasificados incorrectamente como negativos. Error tipo 2 (Falsos Negativos)\n",
    "#### FP es la cantidad de negativos que fueron clasificados incorrectamente como positivos. Error tipo 1 (Falsos positivos)"
   ]
  },
  {
   "cell_type": "code",
   "execution_count": 29,
   "metadata": {
    "scrolled": false
   },
   "outputs": [
    {
     "name": "stdout",
     "output_type": "stream",
     "text": [
      "[[280  10]\n",
      " [ 22   8]]\n",
      "              precision    recall  f1-score   support\n",
      "\n",
      "           0       0.93      0.97      0.95       290\n",
      "           1       0.44      0.27      0.33        30\n",
      "\n",
      "    accuracy                           0.90       320\n",
      "   macro avg       0.69      0.62      0.64       320\n",
      "weighted avg       0.88      0.90      0.89       320\n",
      "\n"
     ]
    }
   ],
   "source": [
    "print(matriz_modelo_RL) ##Matriz de Confusioin\n",
    "print(reporte_modelo_RL)  # Reporte VP-"
   ]
  },
  {
   "cell_type": "code",
   "execution_count": 30,
   "metadata": {},
   "outputs": [],
   "source": [
    "from prettytable import PrettyTable # -->pip install PrettyTable para markdown"
   ]
  },
  {
   "cell_type": "markdown",
   "metadata": {},
   "source": [
    "## Metricas de Clasificacion para RL"
   ]
  },
  {
   "cell_type": "code",
   "execution_count": 38,
   "metadata": {
    "scrolled": false
   },
   "outputs": [
    {
     "name": "stdout",
     "output_type": "stream",
     "text": [
      "+-----------------+--------------------+--------------+--------------------+-----------+--------------------+\n",
      "| Regressor Model |     Precision      | Sensibilidad |     puntaje_f1     | Exactitud |      AUC-ROC       |\n",
      "+-----------------+--------------------+--------------+--------------------+-----------+--------------------+\n",
      "|      Linear     | 0.8818984547461367 |     0.9      | 0.8885135135135135 |    0.9    | 0.6160919540229884 |\n",
      "+-----------------+--------------------+--------------+--------------------+-----------+--------------------+\n"
     ]
    }
   ],
   "source": [
    "warnings.filterwarnings('ignore') #resultado usando tablas MarkDown\n",
    "ptbl = PrettyTable()\n",
    "ptbl.field_names = [\"Regressor Model\", \"Precision\", \"Sensibilidad\", \"puntaje_f1\", \"Exactitud\", \"AUC-ROC\"]\n",
    "ptbl.add_row([\"Linear\", precision_score(y_test, y_pred, average = 'weighted'),\n",
    "           recall_score(y_test, y_pred, average = 'weighted'), f1_score(y_test, y_pred, average = 'weighted'),\n",
    "           accuracy_score(y_test, y_pred, normalize=True), roc_auc_score(y_test, y_pred, average = 'weighted')])\n",
    "print(ptbl)"
   ]
  },
  {
   "cell_type": "markdown",
   "metadata": {},
   "source": [
    "## Metricas de Analisis de Errores de Regresion RL"
   ]
  },
  {
   "cell_type": "code",
   "execution_count": 39,
   "metadata": {},
   "outputs": [
    {
     "name": "stdout",
     "output_type": "stream",
     "text": [
      "+---------------------+---------------------+-----+----------------------+\n",
      "|   Regressor Model   |         RMSE        | MAE |         R^2          |\n",
      "+---------------------+---------------------+-----+----------------------+\n",
      "| Regresion Logistica | 0.31622776601683794 | 0.1 | -0.17701149425287355 |\n",
      "+---------------------+---------------------+-----+----------------------+\n"
     ]
    }
   ],
   "source": [
    "warnings.filterwarnings('ignore') #resultado usando tablas MarkDown\n",
    "error_rl = sqrt (mean_squared_error(y_test, y_pred)) \n",
    "error_mae_rl = mean_squared_error(y_test, y_pred) \n",
    "error_r2_rl = r2_score(y_test, y_pred)\n",
    "ptbl_error_rl = PrettyTable()\n",
    "ptbl_error_rl.field_names = [\"Regressor Model\", \"RMSE\", \"MAE\", \"R^2\"]\n",
    "ptbl_error_rl.add_row([\"Regresion Logistica\", error_rl, error_mae_rl, error_r2_rl])\n",
    "print(ptbl_error_rl)"
   ]
  },
  {
   "cell_type": "markdown",
   "metadata": {},
   "source": [
    "# --Algorimto Árbol de decisión"
   ]
  },
  {
   "cell_type": "code",
   "execution_count": 40,
   "metadata": {},
   "outputs": [],
   "source": [
    "# Algorimto Árbol de decisión\n",
    "\n",
    "data = pd.read_csv('winequality-red.csv', sep=\";\")\n",
    "data = DecisionTreeClassifier(random_state = 1, max_depth=5) \n",
    "data.fit (X_train, y_train) \n",
    "y_pred_ad = data.predict (X_test)"
   ]
  },
  {
   "cell_type": "markdown",
   "metadata": {},
   "source": [
    " ## Matriz de Confusion y Reporte AD"
   ]
  },
  {
   "cell_type": "code",
   "execution_count": 41,
   "metadata": {},
   "outputs": [
    {
     "name": "stdout",
     "output_type": "stream",
     "text": [
      "[[280  10]\n",
      " [ 20  10]]\n",
      "              precision    recall  f1-score   support\n",
      "\n",
      "           0       0.93      0.97      0.95       290\n",
      "           1       0.50      0.33      0.40        30\n",
      "\n",
      "    accuracy                           0.91       320\n",
      "   macro avg       0.72      0.65      0.67       320\n",
      "weighted avg       0.89      0.91      0.90       320\n",
      "\n"
     ]
    }
   ],
   "source": [
    "print(confusion_matrix(y_test, y_pred_ad))\n",
    "print(classification_report(y_test, y_pred_ad)) #Reporte"
   ]
  },
  {
   "cell_type": "markdown",
   "metadata": {},
   "source": [
    "## Metricas de Clasificacion AD"
   ]
  },
  {
   "cell_type": "code",
   "execution_count": 42,
   "metadata": {
    "scrolled": false
   },
   "outputs": [
    {
     "name": "stdout",
     "output_type": "stream",
     "text": [
      "+-----------------+--------------------+--------------+--------------------+-----------+--------------------+\n",
      "| Regressor Model |     Precision      | Sensibilidad |     puntaje_f1     | Exactitud |      AUC-ROC       |\n",
      "+-----------------+--------------------+--------------+--------------------+-----------+--------------------+\n",
      "|  Arbol Desicion | 0.8927083333333334 |   0.90625    | 0.8976694915254239 |  0.90625  | 0.6494252873563219 |\n",
      "+-----------------+--------------------+--------------+--------------------+-----------+--------------------+\n"
     ]
    }
   ],
   "source": [
    "warnings.filterwarnings('ignore') #resultado usando tablas MarkDown\n",
    "ptbl_ad = PrettyTable()\n",
    "ptbl_ad.field_names = [\"Regressor Model\", \"Precision\", \"Sensibilidad\", \"puntaje_f1\", \"Exactitud\", \"AUC-ROC\"]\n",
    "ptbl_ad.add_row([\"Arbol Desicion\", precision_score(y_test, y_pred_ad, average = 'weighted'),\n",
    "           recall_score(y_test, y_pred_ad, average = 'weighted'), f1_score(y_test, y_pred_ad, average = 'weighted'),\n",
    "           accuracy_score(y_test, y_pred_ad, normalize=True), roc_auc_score(y_test, y_pred_ad, average = 'weighted')])\n",
    "print(ptbl_ad)"
   ]
  },
  {
   "cell_type": "markdown",
   "metadata": {},
   "source": [
    "## Metricas de Analisis de Errores de Regresion AD"
   ]
  },
  {
   "cell_type": "code",
   "execution_count": 43,
   "metadata": {},
   "outputs": [
    {
     "name": "stdout",
     "output_type": "stream",
     "text": [
      "+-------------------+---------------------+---------+----------------------+\n",
      "|  Regressor Model  |         RMSE        |   MAE   |         R^2          |\n",
      "+-------------------+---------------------+---------+----------------------+\n",
      "| Arbol de Desicion | 0.30618621784789724 | 0.09375 | -0.10344827586206895 |\n",
      "+-------------------+---------------------+---------+----------------------+\n"
     ]
    }
   ],
   "source": [
    "warnings.filterwarnings('ignore') #resultado usando tablas MarkDown\n",
    "error_ad = sqrt (mean_squared_error(y_test, y_pred_ad)) \n",
    "error_mae_ad = mean_squared_error(y_test, y_pred_ad) \n",
    "error_r2_ad = r2_score(y_test, y_pred_ad)\n",
    "ptbl_error_ad = PrettyTable()\n",
    "ptbl_error_ad.field_names = [\"Regressor Model\", \"RMSE\", \"MAE\", \"R^2\"]\n",
    "ptbl_error_ad.add_row([\"Arbol de Desicion\", error_ad, error_mae_ad, error_r2_ad])\n",
    "print(ptbl_error_ad)"
   ]
  },
  {
   "cell_type": "code",
   "execution_count": null,
   "metadata": {},
   "outputs": [],
   "source": []
  },
  {
   "cell_type": "code",
   "execution_count": null,
   "metadata": {},
   "outputs": [],
   "source": []
  },
  {
   "cell_type": "markdown",
   "metadata": {},
   "source": [
    "# --Algoritmo Vecinos mas cercanos "
   ]
  },
  {
   "cell_type": "code",
   "execution_count": 53,
   "metadata": {
    "scrolled": false
   },
   "outputs": [
    {
     "data": {
      "text/plain": [
       "([<matplotlib.axis.XTick at 0x241e8367c08>,\n",
       "  <matplotlib.axis.XTick at 0x241e97d9488>,\n",
       "  <matplotlib.axis.XTick at 0x241e97d91c8>,\n",
       "  <matplotlib.axis.XTick at 0x241e9a6bac8>,\n",
       "  <matplotlib.axis.XTick at 0x241e9a6c1c8>],\n",
       " <a list of 5 Text xticklabel objects>)"
      ]
     },
     "execution_count": 53,
     "metadata": {},
     "output_type": "execute_result"
    },
    {
     "data": {
      "image/png": "[encoded data removed]",
      "text/plain": [
       "<Figure size 1152x648 with 1 Axes>"
      ]
     },
     "metadata": {},
     "output_type": "display_data"
    }
   ],
   "source": [
    "#Algoritmo Vecinos mas cercanos \n",
    "\n",
    "%matplotlib inline\n",
    "plt.rcParams['figure.figsize'] = (16, 9)\n",
    "plt.style.use('ggplot')\n",
    " \n",
    "from sklearn.model_selection import train_test_split\n",
    "from sklearn.preprocessing import MinMaxScaler\n",
    "from sklearn.neighbors import KNeighborsClassifier\n",
    "from sklearn.metrics import classification_report\n",
    "from sklearn.metrics import confusion_matrix\n",
    "\n",
    "data1 = pd.read_csv('winequality-red.csv', sep=\";\")\n",
    "\n",
    "#Eleccion de valor K\n",
    "n_neighbors = 7\n",
    "k_rango = range(1, 20)\n",
    "scores = []\n",
    "for k in k_rango:\n",
    "    knn = KNeighborsClassifier(n_neighbors = k)\n",
    "    knn.fit(X_train, y_train)\n",
    "    scores.append(knn.score(X_test, y_test))\n",
    "plt.figure()\n",
    "plt.xlabel('k')\n",
    "plt.ylabel('accuracy')\n",
    "plt.scatter(k_rango, scores)\n",
    "plt.xticks([0,5,10,15,20])"
   ]
  },
  {
   "cell_type": "markdown",
   "metadata": {},
   "source": [
    "## Matriz de Confusion y Reporte K-Vecinos"
   ]
  },
  {
   "cell_type": "code",
   "execution_count": 54,
   "metadata": {
    "scrolled": false
   },
   "outputs": [
    {
     "name": "stdout",
     "output_type": "stream",
     "text": [
      "[[277  13]\n",
      " [ 18  12]]\n",
      "              precision    recall  f1-score   support\n",
      "\n",
      "           0       0.94      0.96      0.95       290\n",
      "           1       0.48      0.40      0.44        30\n",
      "\n",
      "    accuracy                           0.90       320\n",
      "   macro avg       0.71      0.68      0.69       320\n",
      "weighted avg       0.90      0.90      0.90       320\n",
      "\n"
     ]
    }
   ],
   "source": [
    "pred = knn.predict(X_test)\n",
    "print(confusion_matrix(y_test, pred)) #-\tMatriz de confusión\n",
    "print(classification_report(y_test, pred)) #Reporte"
   ]
  },
  {
   "cell_type": "code",
   "execution_count": 58,
   "metadata": {
    "scrolled": true
   },
   "outputs": [
    {
     "name": "stdout",
     "output_type": "stream",
     "text": [
      "Datos de entrenamiento\n",
      "[0, 0, 1, 0, 0, 0, 0, 0, 0, 0, 0, 0, 0, 0, 0, 0, 1, 0, 0, 0, 1, 0, 0, 0, 0, 0, 0, 1, 0, 0, 0, 0, 0, 0, 1, 1, 0, 0, 0, 1, 0, 1, 0, 0, 0, 0, 0, 0, 0, 0, 0, 0, 0, 0, 0, 0, 0, 0, 0, 0, 0, 0, 0, 0, 0, 0, 0, 0, 0, 0, 0, 0, 0, 0, 0, 0, 0, 0, 0, 0, 0, 0, 0, 0, 0, 0, 0, 0, 0, 0, 0, 0, 0, 0, 1, 0, 0, 0, 0, 0, 1, 0, 0, 0, 0, 0, 0, 0, 1, 0, 0, 0, 1, 0, 0, 0, 0, 1, 0, 0, 0, 1, 0, 0, 0, 0, 0, 0, 0, 0, 0, 0, 0, 0, 0, 0, 0, 0, 1, 0, 0, 0, 0, 0, 0, 0, 1, 0, 0, 0, 0, 0, 0, 0, 0, 0, 0, 0, 0, 0, 0, 0, 0, 0, 0, 0, 0, 0, 0, 0, 0, 0, 0, 1, 0, 0, 0, 1, 1, 0, 0, 1, 0, 0, 0, 0, 0, 0, 0, 0, 0, 0, 0, 0, 0, 0, 0, 0, 0, 0, 0, 0, 0, 0, 0, 0, 0, 0, 1, 0, 0, 0, 0, 0, 0, 0, 0, 0, 0, 0, 0, 0, 0, 0, 0, 0, 0, 0, 0, 0, 0, 0, 1, 0, 1, 0, 0, 1, 1, 0, 0, 0, 0, 0, 0, 0, 0, 0, 0, 0, 0, 0, 0, 0, 0, 0, 0, 0, 0, 1, 0, 0, 0, 0, 0, 0, 0, 0, 0, 1, 0, 0, 0, 0, 0, 0, 1, 0, 0, 1, 0, 1, 0, 0, 0, 0, 0, 0, 0, 0, 0, 0, 0, 0, 0, 0, 0, 0, 0, 0, 0, 0, 0, 0, 0, 0, 0, 0, 0, 0, 0, 0, 0, 0, 0, 0, 0, 0, 0, 0]\n",
      "Datos obtenidos por prediccion\n",
      "[0 0 1 0 0 0 0 0 0 0 0 0 0 0 0 1 1 0 0 0 0 0 0 0 0 0 0 1 0 0 0 0 0 0 0 0 0\n",
      " 0 0 0 0 0 0 0 0 0 0 0 0 0 0 0 0 0 0 0 0 0 1 0 0 0 0 0 0 0 0 0 1 1 0 0 0 0\n",
      " 0 0 0 0 0 1 0 0 0 0 0 0 0 0 0 0 0 0 0 0 0 0 0 0 0 0 1 0 0 0 0 0 0 0 0 0 0\n",
      " 0 0 0 0 0 0 1 0 0 0 0 0 0 1 0 0 0 0 0 0 0 0 0 0 0 0 0 0 0 0 0 0 0 0 0 0 1\n",
      " 0 0 0 0 0 0 0 0 0 0 0 0 0 0 0 0 0 0 0 0 0 0 0 0 0 1 0 0 0 1 0 0 0 1 0 0 0\n",
      " 0 0 0 0 0 0 0 0 0 0 0 0 0 0 0 0 0 0 0 0 0 0 1 0 0 0 0 0 1 0 0 0 0 0 0 0 0\n",
      " 1 0 0 0 1 0 0 0 0 0 0 0 1 0 0 1 0 0 0 0 0 0 0 0 0 0 0 1 0 0 0 0 0 0 0 0 0\n",
      " 0 0 1 0 0 0 0 0 0 0 1 0 0 0 0 0 0 0 0 0 0 0 1 0 0 0 0 0 0 0 0 0 0 0 0 0 0\n",
      " 0 0 0 0 0 0 0 0 0 0 0 0 0 0 0 0 0 0 0 0 0 0 0 0]\n"
     ]
    }
   ],
   "source": [
    "print('Datos de entrenamiento')\n",
    "print(y_test.to_list())\n",
    "print('Datos obtenidos por prediccion')\n",
    "print(pred)"
   ]
  },
  {
   "cell_type": "markdown",
   "metadata": {},
   "source": [
    "## Metricas de Clasificacion K-Vecinos"
   ]
  },
  {
   "cell_type": "code",
   "execution_count": 59,
   "metadata": {
    "scrolled": true
   },
   "outputs": [
    {
     "name": "stdout",
     "output_type": "stream",
     "text": [
      "+------------------------+--------------------+--------------+--------------------+-----------+--------------------+\n",
      "|    Regressor Model     |     Precision      | Sensibilidad |     puntaje_f1     | Exactitud |      AUC-ROC       |\n",
      "+------------------------+--------------------+--------------+--------------------+-----------+--------------------+\n",
      "| K-Vecinos mas cercanos | 0.8959533898305084 |   0.903125   | 0.8991355866355866 |  0.903125 | 0.6775862068965517 |\n",
      "+------------------------+--------------------+--------------+--------------------+-----------+--------------------+\n"
     ]
    }
   ],
   "source": [
    "warnings.filterwarnings('ignore') #resultado usando tablas MarkDown\n",
    "ptbl_vc = PrettyTable()\n",
    "ptbl_vc.field_names = [\"Regressor Model\", \"Precision\", \"Sensibilidad\", \"puntaje_f1\", \"Exactitud\", \"AUC-ROC\"]\n",
    "ptbl_vc.add_row([\"K-Vecinos mas cercanos\", precision_score(y_test, pred, average = 'weighted'),\n",
    "           recall_score(y_test, pred, average = 'weighted'), f1_score(y_test, pred, average = 'weighted'),\n",
    "           accuracy_score(y_test, pred, normalize=True), roc_auc_score(y_test, pred, average = 'weighted')])\n",
    "print(ptbl_vc)"
   ]
  },
  {
   "cell_type": "markdown",
   "metadata": {},
   "source": [
    "## Metricas de Analisis de Errores de Regresion K-Vecinos"
   ]
  },
  {
   "cell_type": "code",
   "execution_count": 60,
   "metadata": {},
   "outputs": [
    {
     "name": "stdout",
     "output_type": "stream",
     "text": [
      "+--------------------+--------------------+----------+----------------------+\n",
      "|  Regressor Model   |        RMSE        |   MAE    |         R^2          |\n",
      "+--------------------+--------------------+----------+----------------------+\n",
      "| K-Vecinos Cercanos | 0.3112474899497183 | 0.096875 | -0.14022988505747125 |\n",
      "+--------------------+--------------------+----------+----------------------+\n"
     ]
    }
   ],
   "source": [
    "warnings.filterwarnings('ignore') #resultado usando tablas MarkDown\n",
    "error_k = sqrt (mean_squared_error(y_test, pred)) \n",
    "error_mae_k = mean_squared_error(y_test, pred) \n",
    "error_r2_k = r2_score(y_test, pred)\n",
    "ptbl_error_k = PrettyTable()\n",
    "ptbl_error_k.field_names = [\"Regressor Model\", \"RMSE\", \"MAE\", \"R^2\"]\n",
    "ptbl_error_k.add_row([\"K-Vecinos Cercanos\", error_k, error_mae_k, error_r2_k])\n",
    "print(ptbl_error_k)"
   ]
  },
  {
   "cell_type": "code",
   "execution_count": null,
   "metadata": {},
   "outputs": [],
   "source": []
  },
  {
   "cell_type": "markdown",
   "metadata": {},
   "source": [
    "# Algoritmo Máquinas de vectores de soporte"
   ]
  },
  {
   "cell_type": "code",
   "execution_count": 61,
   "metadata": {
    "scrolled": true
   },
   "outputs": [
    {
     "name": "stdout",
     "output_type": "stream",
     "text": [
      "Datos de entrenamiento\n",
      "[0, 0, 1, 0, 0, 0, 0, 0, 0, 0, 0, 0, 0, 0, 0, 0, 1, 0, 0, 0, 1, 0, 0, 0, 0, 0, 0, 1, 0, 0, 0, 0, 0, 0, 1, 1, 0, 0, 0, 1, 0, 1, 0, 0, 0, 0, 0, 0, 0, 0, 0, 0, 0, 0, 0, 0, 0, 0, 0, 0, 0, 0, 0, 0, 0, 0, 0, 0, 0, 0, 0, 0, 0, 0, 0, 0, 0, 0, 0, 0, 0, 0, 0, 0, 0, 0, 0, 0, 0, 0, 0, 0, 0, 0, 1, 0, 0, 0, 0, 0, 1, 0, 0, 0, 0, 0, 0, 0, 1, 0, 0, 0, 1, 0, 0, 0, 0, 1, 0, 0, 0, 1, 0, 0, 0, 0, 0, 0, 0, 0, 0, 0, 0, 0, 0, 0, 0, 0, 1, 0, 0, 0, 0, 0, 0, 0, 1, 0, 0, 0, 0, 0, 0, 0, 0, 0, 0, 0, 0, 0, 0, 0, 0, 0, 0, 0, 0, 0, 0, 0, 0, 0, 0, 1, 0, 0, 0, 1, 1, 0, 0, 1, 0, 0, 0, 0, 0, 0, 0, 0, 0, 0, 0, 0, 0, 0, 0, 0, 0, 0, 0, 0, 0, 0, 0, 0, 0, 0, 1, 0, 0, 0, 0, 0, 0, 0, 0, 0, 0, 0, 0, 0, 0, 0, 0, 0, 0, 0, 0, 0, 0, 0, 1, 0, 1, 0, 0, 1, 1, 0, 0, 0, 0, 0, 0, 0, 0, 0, 0, 0, 0, 0, 0, 0, 0, 0, 0, 0, 0, 1, 0, 0, 0, 0, 0, 0, 0, 0, 0, 1, 0, 0, 0, 0, 0, 0, 1, 0, 0, 1, 0, 1, 0, 0, 0, 0, 0, 0, 0, 0, 0, 0, 0, 0, 0, 0, 0, 0, 0, 0, 0, 0, 0, 0, 0, 0, 0, 0, 0, 0, 0, 0, 0, 0, 0, 0, 0, 0, 0, 0]\n",
      "Datos obtenidos por prediccion\n",
      "[0 0 1 0 0 0 0 0 0 0 0 0 0 0 0 0 1 0 0 0 0 0 0 0 0 0 0 0 0 0 0 0 0 0 0 0 0\n",
      " 0 0 0 0 0 0 0 0 0 0 0 0 0 0 0 0 0 0 0 0 0 1 0 0 0 0 0 0 0 0 0 0 0 0 0 0 0\n",
      " 0 0 0 0 0 0 0 0 0 0 0 0 0 0 0 0 0 0 0 0 0 0 0 0 0 0 1 0 0 0 0 0 0 0 0 0 0\n",
      " 0 0 0 0 0 0 1 0 0 0 0 0 0 1 0 0 0 0 1 0 0 0 0 0 0 0 0 0 0 0 0 0 0 0 0 0 0\n",
      " 0 0 0 0 0 0 0 0 0 0 0 0 0 0 0 0 0 0 0 0 0 0 0 0 0 1 0 0 0 1 0 0 0 1 0 0 0\n",
      " 0 0 0 0 0 0 0 0 0 0 0 0 0 0 0 0 0 0 0 0 0 0 0 0 0 0 0 0 0 0 0 0 0 0 0 0 0\n",
      " 0 0 0 0 0 0 0 0 0 0 0 0 0 0 0 1 0 0 0 0 0 0 0 0 0 0 0 0 0 0 0 0 0 0 0 0 0\n",
      " 0 0 1 0 0 0 0 0 0 0 1 0 0 0 0 0 0 0 0 0 0 0 1 0 0 0 0 0 0 0 0 0 0 0 0 0 0\n",
      " 0 0 0 0 0 0 0 0 0 0 0 0 0 0 0 0 0 0 0 0 0 0 0 0]\n"
     ]
    }
   ],
   "source": [
    "#Algoritmo Máquinas de vectores de soporte\n",
    "\n",
    "from sklearn.svm import SVC\n",
    "\n",
    "modelo_vs = SVC()\n",
    "modelo_vs.fit(X_train, y_train)\n",
    "y_pred_vs = modelo_vs.predict(X_test)\n",
    "\n",
    "print('Datos de entrenamiento')\n",
    "print(y_test.to_list())\n",
    "print('Datos obtenidos por prediccion')\n",
    "print(y_pred_vs)"
   ]
  },
  {
   "cell_type": "markdown",
   "metadata": {},
   "source": [
    "## Matriz de confusion y Reporte Vector de Soporte"
   ]
  },
  {
   "cell_type": "code",
   "execution_count": 62,
   "metadata": {},
   "outputs": [
    {
     "name": "stdout",
     "output_type": "stream",
     "text": [
      "[[286   4]\n",
      " [ 20  10]]\n",
      "              precision    recall  f1-score   support\n",
      "\n",
      "           0       0.93      0.99      0.96       290\n",
      "           1       0.71      0.33      0.45        30\n",
      "\n",
      "    accuracy                           0.93       320\n",
      "   macro avg       0.82      0.66      0.71       320\n",
      "weighted avg       0.91      0.93      0.91       320\n",
      "\n"
     ]
    }
   ],
   "source": [
    "print(confusion_matrix(y_test, y_pred_vs)) #\tMatriz de confusión\n",
    "print(classification_report(y_test, y_pred_vs)) #Reporte"
   ]
  },
  {
   "cell_type": "markdown",
   "metadata": {},
   "source": [
    "## Metricas de Clasificacion VS"
   ]
  },
  {
   "cell_type": "code",
   "execution_count": 63,
   "metadata": {
    "scrolled": true
   },
   "outputs": [
    {
     "name": "stdout",
     "output_type": "stream",
     "text": [
      "+-------------------+-------------------+--------------+--------------------+-----------+--------------------+\n",
      "|  Regressor Model  |     Precision     | Sensibilidad |     puntaje_f1     | Exactitud |      AUC-ROC       |\n",
      "+-------------------+-------------------+--------------+--------------------+-----------+--------------------+\n",
      "| Vector de Soporte | 0.913982259570495 |    0.925     | 0.9123703477730322 |   0.925   | 0.6597701149425287 |\n",
      "+-------------------+-------------------+--------------+--------------------+-----------+--------------------+\n"
     ]
    }
   ],
   "source": [
    "warnings.filterwarnings('ignore') #resultado usando tablas MarkDown\n",
    "ptbl_vs = PrettyTable()\n",
    "ptbl_vs.field_names = [\"Regressor Model\", \"Precision\", \"Sensibilidad\", \"puntaje_f1\", \"Exactitud\", \"AUC-ROC\"]\n",
    "ptbl_vs.add_row([\"Vector de Soporte\", precision_score(y_test, y_pred_vs, average = 'weighted'),\n",
    "           recall_score(y_test, y_pred_vs, average = 'weighted'), f1_score(y_test, y_pred_vs, average = 'weighted'),\n",
    "           accuracy_score(y_test, y_pred_vs, normalize=True), roc_auc_score(y_test, y_pred_vs, average = 'weighted')])\n",
    "print(ptbl_vs)"
   ]
  },
  {
   "cell_type": "markdown",
   "metadata": {},
   "source": [
    " ## Metricas de Analisis de Errores de Regresion VS"
   ]
  },
  {
   "cell_type": "code",
   "execution_count": 64,
   "metadata": {},
   "outputs": [
    {
     "name": "stdout",
     "output_type": "stream",
     "text": [
      "+-----------------+---------------------+-------+---------------------+\n",
      "| Regressor Model |         RMSE        |  MAE  |         R^2         |\n",
      "+-----------------+---------------------+-------+---------------------+\n",
      "|  Vector Soporte | 0.27386127875258304 | 0.075 | 0.11724137931034484 |\n",
      "+-----------------+---------------------+-------+---------------------+\n"
     ]
    }
   ],
   "source": [
    "warnings.filterwarnings('ignore') #resultado usando tablas MarkDown\n",
    "error_vs = sqrt (mean_squared_error(y_test, y_pred_vs)) \n",
    "error_mae_vs = mean_squared_error(y_test, y_pred_vs) \n",
    "error_r2_vs = r2_score(y_test, y_pred_vs)\n",
    "ptbl_error_vs = PrettyTable()\n",
    "ptbl_error_vs.field_names = [\"Regressor Model\", \"RMSE\", \"MAE\", \"R^2\"]\n",
    "ptbl_error_vs.add_row([\"Vector Soporte\", error_vs, error_mae_vs, error_r2_vs])\n",
    "print(ptbl_error_vs)"
   ]
  },
  {
   "cell_type": "code",
   "execution_count": null,
   "metadata": {},
   "outputs": [],
   "source": []
  },
  {
   "cell_type": "markdown",
   "metadata": {},
   "source": [
    "# Algoritmo Bayesiano Ingenuo (Naive Bayes)"
   ]
  },
  {
   "cell_type": "code",
   "execution_count": 65,
   "metadata": {
    "scrolled": true
   },
   "outputs": [
    {
     "name": "stdout",
     "output_type": "stream",
     "text": [
      "Datos de entrenamiento\n",
      "[0, 0, 1, 0, 0, 0, 0, 0, 0, 0, 0, 0, 0, 0, 0, 0, 1, 0, 0, 0, 1, 0, 0, 0, 0, 0, 0, 1, 0, 0, 0, 0, 0, 0, 1, 1, 0, 0, 0, 1, 0, 1, 0, 0, 0, 0, 0, 0, 0, 0, 0, 0, 0, 0, 0, 0, 0, 0, 0, 0, 0, 0, 0, 0, 0, 0, 0, 0, 0, 0, 0, 0, 0, 0, 0, 0, 0, 0, 0, 0, 0, 0, 0, 0, 0, 0, 0, 0, 0, 0, 0, 0, 0, 0, 1, 0, 0, 0, 0, 0, 1, 0, 0, 0, 0, 0, 0, 0, 1, 0, 0, 0, 1, 0, 0, 0, 0, 1, 0, 0, 0, 1, 0, 0, 0, 0, 0, 0, 0, 0, 0, 0, 0, 0, 0, 0, 0, 0, 1, 0, 0, 0, 0, 0, 0, 0, 1, 0, 0, 0, 0, 0, 0, 0, 0, 0, 0, 0, 0, 0, 0, 0, 0, 0, 0, 0, 0, 0, 0, 0, 0, 0, 0, 1, 0, 0, 0, 1, 1, 0, 0, 1, 0, 0, 0, 0, 0, 0, 0, 0, 0, 0, 0, 0, 0, 0, 0, 0, 0, 0, 0, 0, 0, 0, 0, 0, 0, 0, 1, 0, 0, 0, 0, 0, 0, 0, 0, 0, 0, 0, 0, 0, 0, 0, 0, 0, 0, 0, 0, 0, 0, 0, 1, 0, 1, 0, 0, 1, 1, 0, 0, 0, 0, 0, 0, 0, 0, 0, 0, 0, 0, 0, 0, 0, 0, 0, 0, 0, 0, 1, 0, 0, 0, 0, 0, 0, 0, 0, 0, 1, 0, 0, 0, 0, 0, 0, 1, 0, 0, 1, 0, 1, 0, 0, 0, 0, 0, 0, 0, 0, 0, 0, 0, 0, 0, 0, 0, 0, 0, 0, 0, 0, 0, 0, 0, 0, 0, 0, 0, 0, 0, 0, 0, 0, 0, 0, 0, 0, 0, 0]\n",
      "Datos obtenidos por prediccion\n",
      "[0 0 0 0 0 0 0 0 0 0 0 0 0 0 0 0 1 0 0 0 0 0 0 0 0 0 0 1 0 0 0 0 0 0 0 1 0\n",
      " 0 0 0 0 0 1 1 0 0 0 0 0 0 0 0 0 1 0 0 0 0 1 0 0 0 0 0 0 0 0 1 1 0 0 0 0 0\n",
      " 0 0 0 0 0 0 0 0 0 0 0 0 0 0 0 0 0 0 0 0 0 0 0 0 0 0 1 0 0 0 0 0 0 0 0 0 0\n",
      " 0 0 0 0 0 0 1 0 0 0 1 0 0 1 0 0 0 0 1 0 0 0 0 0 0 1 0 1 0 0 0 0 0 0 0 0 0\n",
      " 0 0 0 0 0 0 0 0 0 0 0 0 0 0 1 0 1 0 0 0 0 0 1 0 0 1 0 0 0 1 0 0 0 1 0 0 1\n",
      " 0 0 0 0 0 0 0 0 0 0 0 0 0 0 0 0 0 0 0 0 0 0 0 0 0 0 0 0 1 0 0 0 0 0 0 0 0\n",
      " 1 0 0 1 0 0 0 0 0 0 0 0 0 0 1 1 0 1 0 0 0 0 0 0 0 0 0 0 0 0 0 0 0 0 0 0 0\n",
      " 1 0 1 0 0 0 0 0 0 0 1 0 0 0 1 1 0 0 0 1 1 0 1 0 1 0 0 0 0 0 0 0 0 0 0 0 0\n",
      " 0 0 0 0 0 0 0 0 0 0 0 0 0 0 0 0 0 0 0 1 0 0 0 0]\n"
     ]
    }
   ],
   "source": [
    "#Algoritmo Bayesiano Ingenuo (Naive Bayes)\n",
    "\n",
    "from sklearn.naive_bayes import GaussianNB\n",
    "\n",
    "modelo_nb = GaussianNB()\n",
    "modelo_nb.fit(X_train, y_train)\n",
    "y_pred_nb = modelo_nb.predict(X_test)\n",
    "\n",
    "print('Datos de entrenamiento')\n",
    "print(y_test.to_list())\n",
    "print('Datos obtenidos por prediccion')\n",
    "print(y_pred_nb)"
   ]
  },
  {
   "cell_type": "markdown",
   "metadata": {},
   "source": [
    "## Matriz de Confusion y Reporte Naive Bayes"
   ]
  },
  {
   "cell_type": "code",
   "execution_count": 66,
   "metadata": {
    "scrolled": true
   },
   "outputs": [
    {
     "name": "stdout",
     "output_type": "stream",
     "text": [
      "[[266  24]\n",
      " [ 15  15]]\n",
      "              precision    recall  f1-score   support\n",
      "\n",
      "           0       0.95      0.92      0.93       290\n",
      "           1       0.38      0.50      0.43        30\n",
      "\n",
      "    accuracy                           0.88       320\n",
      "   macro avg       0.67      0.71      0.68       320\n",
      "weighted avg       0.89      0.88      0.89       320\n",
      "\n"
     ]
    }
   ],
   "source": [
    "print(confusion_matrix(y_test, y_pred_nb)) #Matriz de confusión\n",
    "print(classification_report(y_test, y_pred_nb)) #Reporte "
   ]
  },
  {
   "cell_type": "markdown",
   "metadata": {},
   "source": [
    " ## Metricas de Clasificacion Naive Bayes"
   ]
  },
  {
   "cell_type": "code",
   "execution_count": 67,
   "metadata": {},
   "outputs": [
    {
     "name": "stdout",
     "output_type": "stream",
     "text": [
      "+-----------------+--------------------+--------------+--------------------+-----------+--------------------+\n",
      "| Regressor Model |     Precision      | Sensibilidad |     puntaje_f1     | Exactitud |      AUC-ROC       |\n",
      "+-----------------+--------------------+--------------+--------------------+-----------+--------------------+\n",
      "|   Naive Bayes   | 0.8939313577881194 |   0.878125   | 0.8851128835757253 |  0.878125 | 0.7086206896551726 |\n",
      "+-----------------+--------------------+--------------+--------------------+-----------+--------------------+\n"
     ]
    }
   ],
   "source": [
    "warnings.filterwarnings('ignore') #resultado usando tablas MarkDown\n",
    "ptbl_nb = PrettyTable()\n",
    "ptbl_nb.field_names = [\"Regressor Model\", \"Precision\", \"Sensibilidad\", \"puntaje_f1\", \"Exactitud\", \"AUC-ROC\"]\n",
    "ptbl_nb.add_row([\"Naive Bayes\", precision_score(y_test, y_pred_nb, average = 'weighted'),\n",
    "           recall_score(y_test, y_pred_nb, average = 'weighted'), f1_score(y_test, y_pred_nb, average = 'weighted'),\n",
    "           accuracy_score(y_test, y_pred_nb, normalize=True), roc_auc_score(y_test, y_pred_nb, average = 'weighted')])\n",
    "print(ptbl_nb)"
   ]
  },
  {
   "cell_type": "markdown",
   "metadata": {},
   "source": [
    "## Metricas de Analisis de Errores de Regresion Naive Bayes"
   ]
  },
  {
   "cell_type": "code",
   "execution_count": 68,
   "metadata": {},
   "outputs": [
    {
     "name": "stdout",
     "output_type": "stream",
     "text": [
      "+-----------------+--------------------+----------+----------------------+\n",
      "| Regressor Model |        RMSE        |   MAE    |         R^2          |\n",
      "+-----------------+--------------------+----------+----------------------+\n",
      "|   Naive Bayes   | 0.3491060010942235 | 0.121875 | -0.43448275862068964 |\n",
      "+-----------------+--------------------+----------+----------------------+\n"
     ]
    }
   ],
   "source": [
    "warnings.filterwarnings('ignore') #resultado usando tablas MarkDown\n",
    "error_nb = sqrt (mean_squared_error(y_test, y_pred_nb)) \n",
    "error_mae_nb = mean_squared_error(y_test, y_pred_nb) \n",
    "error_r2_nb = r2_score(y_test, y_pred_nb)\n",
    "ptbl_error_nb = PrettyTable()\n",
    "ptbl_error_nb.field_names = [\"Regressor Model\", \"RMSE\", \"MAE\", \"R^2\"]\n",
    "ptbl_error_nb.add_row([\"Naive Bayes\", error_nb, error_mae_nb, error_r2_nb])\n",
    "print(ptbl_error_nb)"
   ]
  },
  {
   "cell_type": "code",
   "execution_count": null,
   "metadata": {},
   "outputs": [],
   "source": []
  },
  {
   "cell_type": "markdown",
   "metadata": {},
   "source": [
    "# Algorimto Bosques Aleatorios (Random Forest)"
   ]
  },
  {
   "cell_type": "code",
   "execution_count": 69,
   "metadata": {
    "scrolled": true
   },
   "outputs": [
    {
     "name": "stdout",
     "output_type": "stream",
     "text": [
      "Datos de entrenamiento\n",
      "[0, 0, 1, 0, 0, 0, 0, 0, 0, 0, 0, 0, 0, 0, 0, 0, 1, 0, 0, 0, 1, 0, 0, 0, 0, 0, 0, 1, 0, 0, 0, 0, 0, 0, 1, 1, 0, 0, 0, 1, 0, 1, 0, 0, 0, 0, 0, 0, 0, 0, 0, 0, 0, 0, 0, 0, 0, 0, 0, 0, 0, 0, 0, 0, 0, 0, 0, 0, 0, 0, 0, 0, 0, 0, 0, 0, 0, 0, 0, 0, 0, 0, 0, 0, 0, 0, 0, 0, 0, 0, 0, 0, 0, 0, 1, 0, 0, 0, 0, 0, 1, 0, 0, 0, 0, 0, 0, 0, 1, 0, 0, 0, 1, 0, 0, 0, 0, 1, 0, 0, 0, 1, 0, 0, 0, 0, 0, 0, 0, 0, 0, 0, 0, 0, 0, 0, 0, 0, 1, 0, 0, 0, 0, 0, 0, 0, 1, 0, 0, 0, 0, 0, 0, 0, 0, 0, 0, 0, 0, 0, 0, 0, 0, 0, 0, 0, 0, 0, 0, 0, 0, 0, 0, 1, 0, 0, 0, 1, 1, 0, 0, 1, 0, 0, 0, 0, 0, 0, 0, 0, 0, 0, 0, 0, 0, 0, 0, 0, 0, 0, 0, 0, 0, 0, 0, 0, 0, 0, 1, 0, 0, 0, 0, 0, 0, 0, 0, 0, 0, 0, 0, 0, 0, 0, 0, 0, 0, 0, 0, 0, 0, 0, 1, 0, 1, 0, 0, 1, 1, 0, 0, 0, 0, 0, 0, 0, 0, 0, 0, 0, 0, 0, 0, 0, 0, 0, 0, 0, 0, 1, 0, 0, 0, 0, 0, 0, 0, 0, 0, 1, 0, 0, 0, 0, 0, 0, 1, 0, 0, 1, 0, 1, 0, 0, 0, 0, 0, 0, 0, 0, 0, 0, 0, 0, 0, 0, 0, 0, 0, 0, 0, 0, 0, 0, 0, 0, 0, 0, 0, 0, 0, 0, 0, 0, 0, 0, 0, 0, 0, 0]\n",
      "Datos obtenidos por prediccion\n",
      "[0 0 1 0 0 0 0 0 0 0 0 0 0 0 0 1 1 0 0 0 0 0 0 0 0 0 0 0 0 0 0 0 0 0 1 1 0\n",
      " 0 0 0 0 0 0 0 0 0 0 0 0 0 0 0 0 0 0 0 0 0 1 0 0 0 0 0 0 0 0 0 0 0 0 0 0 0\n",
      " 0 0 0 0 0 1 0 0 0 0 0 0 0 0 0 0 0 0 0 0 0 0 0 0 0 0 1 0 0 0 0 0 0 0 0 0 0\n",
      " 0 1 0 0 0 0 1 0 0 0 0 0 0 1 1 0 0 0 1 0 0 0 0 0 0 0 0 0 0 0 0 0 0 0 0 1 0\n",
      " 0 0 0 0 0 0 0 0 0 0 0 0 0 0 0 0 0 0 0 1 0 0 0 0 0 1 0 0 0 1 1 0 0 1 0 0 0\n",
      " 0 0 0 0 0 0 0 0 0 0 0 0 0 0 0 0 0 0 0 0 0 0 1 0 0 0 0 0 1 0 0 0 0 0 0 0 0\n",
      " 0 0 0 0 1 0 0 0 0 0 0 0 0 0 0 1 1 0 0 0 0 0 0 0 0 0 0 0 0 0 0 0 0 0 0 0 0\n",
      " 1 0 0 0 0 0 0 0 0 0 1 0 0 0 0 0 0 0 0 0 0 0 1 0 0 0 0 0 0 1 0 0 0 0 0 0 0\n",
      " 0 0 0 0 0 0 0 0 0 0 0 0 0 0 0 0 0 0 0 1 0 0 0 0]\n"
     ]
    }
   ],
   "source": [
    "#Algorimto Bosques Aleatorios (Random Forest)\n",
    "\n",
    "from sklearn.ensemble import RandomForestClassifier\n",
    "\n",
    "modelo_rf = sklearn.ensemble.RandomForestClassifier(n_estimators=100, random_state = 0)\n",
    "modelo_rf.fit(X_train, y_train)\n",
    "y_pred_rf = modelo_rf.predict(X_test)\n",
    "\n",
    "print('Datos de entrenamiento')\n",
    "print(y_test.to_list())\n",
    "print('Datos obtenidos por prediccion')\n",
    "print(y_pred_rf)\n"
   ]
  },
  {
   "cell_type": "markdown",
   "metadata": {},
   "source": [
    " ## Matriz de Confusion y Reporte Random Forest"
   ]
  },
  {
   "cell_type": "code",
   "execution_count": 70,
   "metadata": {
    "scrolled": true
   },
   "outputs": [
    {
     "name": "stdout",
     "output_type": "stream",
     "text": [
      "[[278  12]\n",
      " [ 13  17]]\n",
      "              precision    recall  f1-score   support\n",
      "\n",
      "           0       0.96      0.96      0.96       290\n",
      "           1       0.59      0.57      0.58        30\n",
      "\n",
      "    accuracy                           0.92       320\n",
      "   macro avg       0.77      0.76      0.77       320\n",
      "weighted avg       0.92      0.92      0.92       320\n",
      "\n"
     ]
    }
   ],
   "source": [
    "print(confusion_matrix(y_test, y_pred_rf)) #Matriz de Confusion\n",
    "print(classification_report(y_test, y_pred_rf))#Reporte"
   ]
  },
  {
   "cell_type": "markdown",
   "metadata": {},
   "source": [
    " ## Metricas de Clasificacion Random Forest"
   ]
  },
  {
   "cell_type": "code",
   "execution_count": 71,
   "metadata": {
    "scrolled": false
   },
   "outputs": [
    {
     "name": "stdout",
     "output_type": "stream",
     "text": [
      "+-----------------+--------------------+--------------+--------------------+-----------+--------------------+\n",
      "| Regressor Model |     Precision      | Sensibilidad |     puntaje_f1     | Exactitud |      AUC-ROC       |\n",
      "+-----------------+--------------------+--------------+--------------------+-----------+--------------------+\n",
      "| Arbol Aleatorio | 0.9207215013627208 |   0.921875   | 0.9212801569474021 |  0.921875 | 0.7626436781609195 |\n",
      "+-----------------+--------------------+--------------+--------------------+-----------+--------------------+\n"
     ]
    }
   ],
   "source": [
    "warnings.filterwarnings('ignore') #resultado usando tablas MarkDown\n",
    "ptbl_rf = PrettyTable()\n",
    "ptbl_rf.field_names = [\"Regressor Model\", \"Precision\", \"Sensibilidad\", \"puntaje_f1\", \"Exactitud\", \"AUC-ROC\"]\n",
    "ptbl_rf.add_row([\"Arbol Aleatorio\", precision_score(y_test, y_pred_rf, average = 'weighted'),\n",
    "           recall_score(y_test, y_pred_rf, average = 'weighted'), f1_score(y_test, y_pred_rf, average = 'weighted'),\n",
    "           accuracy_score(y_test, y_pred_rf, normalize=True), roc_auc_score(y_test, y_pred_rf, average = 'weighted')])\n",
    "print(ptbl_rf)"
   ]
  },
  {
   "cell_type": "markdown",
   "metadata": {},
   "source": [
    " ## Metricas de Analisis de Errores de Regresion  Random Forest"
   ]
  },
  {
   "cell_type": "code",
   "execution_count": 72,
   "metadata": {},
   "outputs": [],
   "source": [
    "#Metrica de Analisis de Errores Regresion \n",
    "\n",
    "from sklearn.metrics import mean_squared_error\n",
    "from sklearn.linear_model import LinearRegression\n",
    "from sklearn.metrics import r2_score\n",
    "from math import sqrt\n"
   ]
  },
  {
   "cell_type": "code",
   "execution_count": 73,
   "metadata": {},
   "outputs": [
    {
     "name": "stdout",
     "output_type": "stream",
     "text": [
      "+-----------------+--------------------+----------+---------------------+\n",
      "| Regressor Model |        RMSE        |   MAE    |         R^2         |\n",
      "+-----------------+--------------------+----------+---------------------+\n",
      "| Arbol Aleatorio | 0.2795084971874737 | 0.078125 | 0.08045977011494254 |\n",
      "+-----------------+--------------------+----------+---------------------+\n"
     ]
    }
   ],
   "source": [
    "warnings.filterwarnings('ignore') #resultado usando tablas MarkDown\n",
    "error_rf = sqrt (mean_squared_error(y_test, y_pred_rf)) \n",
    "error_mae = mean_squared_error(y_test, y_pred_rf) \n",
    "error_r2 = r2_score(y_test, y_pred_rf)\n",
    "ptbl_error_rf = PrettyTable()\n",
    "ptbl_error_rf.field_names = [\"Regressor Model\", \"RMSE\", \"MAE\", \"R^2\"]\n",
    "ptbl_error_rf.add_row([\"Arbol Aleatorio\", error_rf, error_mae, error_r2])\n",
    "print(ptbl_error_rf)"
   ]
  },
  {
   "cell_type": "code",
   "execution_count": null,
   "metadata": {},
   "outputs": [],
   "source": []
  },
  {
   "cell_type": "markdown",
   "metadata": {},
   "source": [
    "# Resumen de Metricas Obtenidas:"
   ]
  },
  {
   "cell_type": "code",
   "execution_count": 74,
   "metadata": {
    "scrolled": true
   },
   "outputs": [
    {
     "name": "stdout",
     "output_type": "stream",
     "text": [
      "+------------------------+--------------------+--------------+--------------------+-----------+--------------------+\n",
      "|    Regressor Model     |      Precison      | Sensibilidad |     Puntaje_f1     | Exactitud |      AUC-ROC       |\n",
      "+------------------------+--------------------+--------------+--------------------+-----------+--------------------+\n",
      "|         Linear         | 0.8818984547461367 |     0.9      | 0.8885135135135135 |    0.9    | 0.6160919540229884 |\n",
      "|     Arbol Desicion     | 0.8927083333333334 |   0.90625    | 0.8976694915254239 |  0.90625  | 0.6494252873563219 |\n",
      "| K-Vecinos mas cercanos | 0.8959533898305084 |   0.903125   | 0.8991355866355866 |  0.903125 | 0.6775862068965517 |\n",
      "|   Vector de Soporte    | 0.913982259570495  |    0.925     | 0.9123703477730322 |   0.925   | 0.6597701149425287 |\n",
      "|      Naive Bayes       | 0.8939313577881194 |   0.878125   | 0.8851128835757253 |  0.878125 | 0.7086206896551726 |\n",
      "|    Arbol Aleatorio     | 0.9207215013627208 |   0.921875   | 0.9212801569474021 |  0.921875 | 0.7626436781609195 |\n",
      "+------------------------+--------------------+--------------+--------------------+-----------+--------------------+\n"
     ]
    }
   ],
   "source": [
    "warnings.filterwarnings('ignore')\n",
    "ptbl_1 = PrettyTable()\n",
    "ptbl_1.field_names = [\"Regressor Model\", \"Precison\", \"Sensibilidad\", \"Puntaje_f1\", \"Exactitud\", \"AUC-ROC\"]\n",
    "ptbl_1.add_row([\"Linear\", precision_score(y_test, y_pred, average = 'weighted'),\n",
    "           recall_score(y_test, y_pred, average = 'weighted'), f1_score(y_test, y_pred, average = 'weighted'),\n",
    "           accuracy_score(y_test, y_pred, normalize=True), roc_auc_score(y_test, y_pred, average = 'weighted')])\n",
    "ptbl_1.add_row([\"Arbol Desicion\", precision_score(y_test, y_pred_ad, average = 'weighted'),\n",
    "           recall_score(y_test, y_pred_ad, average = 'weighted'), f1_score(y_test, y_pred_ad, average = 'weighted'),\n",
    "           accuracy_score(y_test, y_pred_ad, normalize=True), roc_auc_score(y_test, y_pred_ad, average = 'weighted')])\n",
    "ptbl_1.add_row([\"K-Vecinos mas cercanos\", precision_score(y_test, pred, average = 'weighted'),\n",
    "           recall_score(y_test, pred, average = 'weighted'), f1_score(y_test, pred, average = 'weighted'),\n",
    "           accuracy_score(y_test, pred, normalize=True), roc_auc_score(y_test, pred, average = 'weighted')])\n",
    "ptbl_1.add_row([\"Vector de Soporte\", precision_score(y_test, y_pred_vs, average = 'weighted'),\n",
    "           recall_score(y_test, y_pred_vs, average = 'weighted'), f1_score(y_test, y_pred_vs, average = 'weighted'),\n",
    "           accuracy_score(y_test, y_pred_vs, normalize=True), roc_auc_score(y_test, y_pred_vs, average = 'weighted')])\n",
    "ptbl_1.add_row([\"Naive Bayes\", precision_score(y_test, y_pred_nb, average = 'weighted'),\n",
    "           recall_score(y_test, y_pred_nb, average = 'weighted'), f1_score(y_test, y_pred_nb, average = 'weighted'),\n",
    "           accuracy_score(y_test, y_pred_nb, normalize=True), roc_auc_score(y_test, y_pred_nb, average = 'weighted')])\n",
    "ptbl_1.add_row([\"Arbol Aleatorio\", precision_score(y_test, y_pred_rf, average = 'weighted'),\n",
    "           recall_score(y_test, y_pred_rf, average = 'weighted'), f1_score(y_test, y_pred_rf, average = 'weighted'),\n",
    "           accuracy_score(y_test, y_pred_rf, normalize=True), roc_auc_score(y_test, y_pred_rf, average = 'weighted')])\n",
    "print(ptbl_1)"
   ]
  },
  {
   "cell_type": "code",
   "execution_count": 75,
   "metadata": {
    "scrolled": true
   },
   "outputs": [
    {
     "name": "stdout",
     "output_type": "stream",
     "text": [
      "+--------------------+---------------------+----------+----------------------+\n",
      "|  Regressor Model   |         RMSE        |   MAE    |         R^2          |\n",
      "+--------------------+---------------------+----------+----------------------+\n",
      "|       Linear       | 0.31622776601683794 |   0.1    | -0.17701149425287355 |\n",
      "| Arbol de Desicion  | 0.30618621784789724 | 0.09375  | -0.10344827586206895 |\n",
      "| K-Vecinos Cercanos |  0.3112474899497183 | 0.096875 | -0.14022988505747125 |\n",
      "|   Vector Soporte   | 0.27386127875258304 |  0.075   | 0.11724137931034484  |\n",
      "|    Naive Bayes     |  0.3491060010942235 | 0.121875 | -0.43448275862068964 |\n",
      "|  Arbol Aleatorio   |  0.2795084971874737 | 0.078125 | 0.08045977011494254  |\n",
      "+--------------------+---------------------+----------+----------------------+\n"
     ]
    }
   ],
   "source": [
    "warnings.filterwarnings('ignore') #resultado usando tablas MarkDown\n",
    "ptbl_2 = PrettyTable()\n",
    "ptbl_2.field_names = [\"Regressor Model\", \"RMSE\", \"MAE\", \"R^2\"]\n",
    "ptbl_2.add_row([\"Linear\", error_rl, error_mae_rl, error_r2_rl])\n",
    "ptbl_2.add_row([\"Arbol de Desicion\", error_ad, error_mae_ad, error_r2_ad])\n",
    "ptbl_2.add_row([\"K-Vecinos Cercanos\", error_k, error_mae_k, error_r2_k])\n",
    "ptbl_2.add_row([\"Vector Soporte\", error_vs, error_mae_vs, error_r2_vs])\n",
    "ptbl_2.add_row([\"Naive Bayes\", error_nb, error_mae_nb, error_r2_nb])\n",
    "ptbl_2.add_row([\"Arbol Aleatorio\", error_rf, error_mae, error_r2])\n",
    "print(ptbl_2)"
   ]
  },
  {
   "attachments": {
    "copa_de_vino.jpg": {
     "image/jpeg": "[encoded data removed]"
    }
   },
   "cell_type": "markdown",
   "metadata": {},
   "source": [
    "<h1 style=\"text-align: center\"> Conclusiones</h1>\n",
    "\n",
    "![copa_de_vino.jpg](attachment:copa_de_vino.jpg)\n",
    "\n",
    "* El mejor modelo que se ajusta para predecir un buen vino de calidad es Random Forest (Arbol Aleatorio).\n",
    "* Al decidir qué algoritmo de regresión es mejor mirando el RMSE, sería mejor \n",
    "  elegir el que tenga un valor más pequeño, por lo que para este problema, \n",
    "  la Regresión Random Forest parece ser el algoritmo de mejor ajuste, depues seria vector soporte.\n",
    "* Podemos ver que en el algoritmo Ramdom forest las carecteristicas que mas influyen en la eleccion de un buen vino tinto,\n",
    "  son el **fixed acidity(acidez fija) y volatile acidity (acidez volatil)**\n",
    "* la Función de puntuación de regresión **R^2(coeficiente de determinación)** es positiva y cercana a 1 (0.08) lo que nos dice que   el modelo tiene buen acercamiento a predecir correctamente, pero debe ajustarse. en este caso vector soporte se encuentra mas   ajustado\n",
    "* La efectividad de nuestro modelo elegido es (Random Forest) por la cantidad de aciertos que tuvo gracias La Matriz de   confusión, ya que la cantidad de verdaderos positivos que fueron clasificados correctamente como positivos por el modelo fue de 278 vinos como Rojos, \n",
    "\n"
   ]
  },
  {
   "cell_type": "code",
   "execution_count": 76,
   "metadata": {},
   "outputs": [
    {
     "data": {
      "text/plain": [
       "array([0.32273265, 0.24898197, 0.2252189 , 0.20306648])"
      ]
     },
     "execution_count": 76,
     "metadata": {},
     "output_type": "execute_result"
    }
   ],
   "source": [
    "modelo_rf.feature_importances_"
   ]
  },
  {
   "cell_type": "code",
   "execution_count": 78,
   "metadata": {
    "scrolled": true
   },
   "outputs": [
    {
     "name": "stdout",
     "output_type": "stream",
     "text": [
      "Caracteristicas Importantes de Random Forest\n",
      "fixed acidity: 0.3227326491363919\n",
      "volatile acidity: 0.24898197248863302\n",
      "citric acid: 0.2252189023412943\n",
      "residual sugar: 0.2030664760336809\n"
     ]
    }
   ],
   "source": [
    "print('Caracteristicas Importantes de Random Forest')\n",
    "for importance,feature in zip(modelo_rf.feature_importances_,['fixed acidity', 'volatile acidity', 'citric acid', \n",
    "                                                              'residual sugar','chlorides', 'free sulfur dioxide', \n",
    "                                                              'total sulfur dioxide', 'density', 'pH', 'sulphates', 'alcohol']):\n",
    "    print('{}: {}'.format(feature,importance))"
   ]
  },
  {
   "cell_type": "code",
   "execution_count": null,
   "metadata": {},
   "outputs": [],
   "source": []
  },
  {
   "cell_type": "code",
   "execution_count": null,
   "metadata": {},
   "outputs": [],
   "source": []
  }
 ],
 "metadata": {
  "kernelspec": {
   "display_name": "Python 3",
   "language": "python",
   "name": "python3"
  },
  "language_info": {
   "codemirror_mode": {
    "name": "ipython",
    "version": 3
   },
   "file_extension": ".py",
   "mimetype": "text/x-python",
   "name": "python",
   "nbconvert_exporter": "python",
   "pygments_lexer": "ipython3",
   "version": "3.8.5"
  }
 },
 "nbformat": 4,
 "nbformat_minor": 4
}
